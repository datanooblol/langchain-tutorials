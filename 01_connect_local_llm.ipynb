{
 "cells": [
  {
   "cell_type": "markdown",
   "id": "6b2292da-06d0-4314-951d-94397654bfd4",
   "metadata": {},
   "source": [
    "# Setup"
   ]
  },
  {
   "cell_type": "code",
   "execution_count": 1,
   "id": "b8fa5311-3777-4734-9f26-83a1e049c155",
   "metadata": {},
   "outputs": [],
   "source": [
    "from package import url, model"
   ]
  },
  {
   "cell_type": "code",
   "execution_count": 7,
   "id": "9f08fd84-0b45-457e-97ec-b4897fe65085",
   "metadata": {},
   "outputs": [
    {
     "data": {
      "text/plain": [
       "'http://localhost:11434'"
      ]
     },
     "execution_count": 7,
     "metadata": {},
     "output_type": "execute_result"
    }
   ],
   "source": [
    "url"
   ]
  },
  {
   "cell_type": "code",
   "execution_count": 8,
   "id": "b83db07a-fa50-400c-9bfa-02adf21399bd",
   "metadata": {},
   "outputs": [
    {
     "data": {
      "text/plain": [
       "'llama3'"
      ]
     },
     "execution_count": 8,
     "metadata": {},
     "output_type": "execute_result"
    }
   ],
   "source": [
    "model"
   ]
  },
  {
   "cell_type": "markdown",
   "id": "34f60ea1-5c29-400d-9c6f-4d3c4d87dbed",
   "metadata": {},
   "source": [
    "## Load environment variables"
   ]
  },
  {
   "cell_type": "code",
   "execution_count": 2,
   "id": "3be6c1b3-1ef2-44e2-8ef6-d8396d10ed58",
   "metadata": {},
   "outputs": [
    {
     "data": {
      "text/plain": [
       "True"
      ]
     },
     "execution_count": 2,
     "metadata": {},
     "output_type": "execute_result"
    }
   ],
   "source": [
    "from dotenv import load_dotenv\n",
    "\n",
    "# load and store you secret api key\n",
    "load_dotenv()"
   ]
  },
  {
   "cell_type": "code",
   "execution_count": 3,
   "id": "0bfc0488-585c-4279-9619-edc378bd8550",
   "metadata": {},
   "outputs": [],
   "source": [
    "import os\n",
    "\n",
    "# os.environ"
   ]
  },
  {
   "cell_type": "code",
   "execution_count": 5,
   "id": "16b3dd47-410a-435d-9e7f-e536c00d33a3",
   "metadata": {},
   "outputs": [],
   "source": [
    "# os.environ.get(\"TAVILY_API_KEY\")"
   ]
  },
  {
   "cell_type": "markdown",
   "id": "806ab90c-5dac-431c-b058-2287a90e75af",
   "metadata": {},
   "source": [
    "## Initialize Model"
   ]
  },
  {
   "cell_type": "code",
   "execution_count": 9,
   "id": "3597fad2-b0e8-43cb-830b-4f22ec84590f",
   "metadata": {},
   "outputs": [],
   "source": [
    "from langchain_community.llms import Ollama\n",
    "\n",
    "llm = Ollama(base_url=url, model=model, temperature=0)"
   ]
  },
  {
   "cell_type": "code",
   "execution_count": 13,
   "id": "5bc7352f-00a9-4e51-a726-753d91fd537f",
   "metadata": {},
   "outputs": [
    {
     "name": "stdout",
     "output_type": "stream",
     "text": [
      "CPU times: total: 0 ns\n",
      "Wall time: 5.17 s\n"
     ]
    },
    {
     "data": {
      "text/plain": [
       "\"Hi! It's nice to meet you. Is there something I can help you with, or would you like to chat?\""
      ]
     },
     "execution_count": 13,
     "metadata": {},
     "output_type": "execute_result"
    }
   ],
   "source": [
    "%%time\n",
    "llm.invoke(\"Hi\")"
   ]
  },
  {
   "cell_type": "markdown",
   "id": "8ace52d7-c015-4047-a18a-2a4d906e38d6",
   "metadata": {},
   "source": [
    "## Initialize Model with function (Not for now)"
   ]
  },
  {
   "cell_type": "code",
   "execution_count": 11,
   "id": "065655da-433d-4690-8437-c911fdf43002",
   "metadata": {},
   "outputs": [],
   "source": [
    "from langchain_experimental.llms.ollama_functions import OllamaFunctions\n",
    "\n",
    "agent_llm = OllamaFunctions(base_url=url, model=model, format=\"json\", temperature=0)"
   ]
  },
  {
   "cell_type": "code",
   "execution_count": 14,
   "id": "eb7fa739-d1f4-4782-8294-4bd9a855f03d",
   "metadata": {},
   "outputs": [
    {
     "name": "stdout",
     "output_type": "stream",
     "text": [
      "CPU times: total: 0 ns\n",
      "Wall time: 12.6 s\n"
     ]
    }
   ],
   "source": [
    "%%time\n",
    "response = agent_llm.invoke(\"Hi\")"
   ]
  },
  {
   "cell_type": "code",
   "execution_count": 21,
   "id": "5ed16372-673c-4bc2-9dd9-641564d9cdde",
   "metadata": {},
   "outputs": [
    {
     "data": {
      "text/plain": [
       "langchain_core.messages.ai.AIMessage"
      ]
     },
     "execution_count": 21,
     "metadata": {},
     "output_type": "execute_result"
    }
   ],
   "source": [
    "type(response)"
   ]
  },
  {
   "cell_type": "code",
   "execution_count": 16,
   "id": "6bceb0d0-5b32-476e-b716-b609c0d727c7",
   "metadata": {},
   "outputs": [
    {
     "data": {
      "text/plain": [
       "['Config',\n",
       " '__abstractmethods__',\n",
       " '__add__',\n",
       " '__annotations__',\n",
       " '__class__',\n",
       " '__class_vars__',\n",
       " '__config__',\n",
       " '__custom_root_type__',\n",
       " '__delattr__',\n",
       " '__dict__',\n",
       " '__dir__',\n",
       " '__doc__',\n",
       " '__eq__',\n",
       " '__exclude_fields__',\n",
       " '__fields__',\n",
       " '__fields_set__',\n",
       " '__format__',\n",
       " '__ge__',\n",
       " '__get_validators__',\n",
       " '__getattribute__',\n",
       " '__getstate__',\n",
       " '__gt__',\n",
       " '__hash__',\n",
       " '__include_fields__',\n",
       " '__init__',\n",
       " '__init_subclass__',\n",
       " '__iter__',\n",
       " '__json_encoder__',\n",
       " '__le__',\n",
       " '__lt__',\n",
       " '__module__',\n",
       " '__ne__',\n",
       " '__new__',\n",
       " '__post_root_validators__',\n",
       " '__pre_root_validators__',\n",
       " '__pretty__',\n",
       " '__private_attributes__',\n",
       " '__reduce__',\n",
       " '__reduce_ex__',\n",
       " '__repr__',\n",
       " '__repr_args__',\n",
       " '__repr_name__',\n",
       " '__repr_str__',\n",
       " '__rich_repr__',\n",
       " '__schema_cache__',\n",
       " '__setattr__',\n",
       " '__setstate__',\n",
       " '__signature__',\n",
       " '__sizeof__',\n",
       " '__slots__',\n",
       " '__str__',\n",
       " '__subclasshook__',\n",
       " '__try_update_forward_refs__',\n",
       " '__validators__',\n",
       " '_abc_impl',\n",
       " '_backwards_compat_tool_calls',\n",
       " '_calculate_keys',\n",
       " '_copy_and_set_values',\n",
       " '_decompose_class',\n",
       " '_enforce_dict_if_root',\n",
       " '_get_value',\n",
       " '_init_private_attributes',\n",
       " '_iter',\n",
       " 'additional_kwargs',\n",
       " 'construct',\n",
       " 'content',\n",
       " 'copy',\n",
       " 'dict',\n",
       " 'example',\n",
       " 'from_orm',\n",
       " 'get_lc_namespace',\n",
       " 'id',\n",
       " 'invalid_tool_calls',\n",
       " 'is_lc_serializable',\n",
       " 'json',\n",
       " 'lc_attributes',\n",
       " 'lc_id',\n",
       " 'lc_secrets',\n",
       " 'name',\n",
       " 'parse_file',\n",
       " 'parse_obj',\n",
       " 'parse_raw',\n",
       " 'pretty_print',\n",
       " 'pretty_repr',\n",
       " 'response_metadata',\n",
       " 'schema',\n",
       " 'schema_json',\n",
       " 'to_json',\n",
       " 'to_json_not_implemented',\n",
       " 'tool_calls',\n",
       " 'type',\n",
       " 'update_forward_refs',\n",
       " 'validate']"
      ]
     },
     "execution_count": 16,
     "metadata": {},
     "output_type": "execute_result"
    }
   ],
   "source": [
    "dir(response)"
   ]
  },
  {
   "cell_type": "code",
   "execution_count": 22,
   "id": "a6398eda-6937-428f-842a-a204d1c06d8d",
   "metadata": {},
   "outputs": [
    {
     "data": {
      "text/plain": [
       "'Hello! How can I help you today?'"
      ]
     },
     "execution_count": 22,
     "metadata": {},
     "output_type": "execute_result"
    }
   ],
   "source": [
    "response.content"
   ]
  },
  {
   "cell_type": "code",
   "execution_count": 18,
   "id": "967b7edb-5b8d-4344-beee-ef9236edbcd6",
   "metadata": {},
   "outputs": [
    {
     "data": {
      "text/plain": [
       "'{\"content\": \"Hello! How can I help you today?\", \"additional_kwargs\": {}, \"response_metadata\": {}, \"type\": \"ai\", \"name\": null, \"id\": \"run-795a30d1-5838-47e6-911c-9b5af09f7318-0\", \"example\": false, \"tool_calls\": [], \"invalid_tool_calls\": []}'"
      ]
     },
     "execution_count": 18,
     "metadata": {},
     "output_type": "execute_result"
    }
   ],
   "source": [
    "response.json()"
   ]
  },
  {
   "cell_type": "code",
   "execution_count": 17,
   "id": "cf3d6839-07ec-4c00-9726-d9f612dff4ce",
   "metadata": {},
   "outputs": [
    {
     "data": {
      "text/plain": [
       "{'content': 'Hello! How can I help you today?',\n",
       " 'additional_kwargs': {},\n",
       " 'response_metadata': {},\n",
       " 'type': 'ai',\n",
       " 'name': None,\n",
       " 'id': 'run-795a30d1-5838-47e6-911c-9b5af09f7318-0',\n",
       " 'example': False,\n",
       " 'tool_calls': [],\n",
       " 'invalid_tool_calls': []}"
      ]
     },
     "execution_count": 17,
     "metadata": {},
     "output_type": "execute_result"
    }
   ],
   "source": [
    "response.dict()"
   ]
  },
  {
   "cell_type": "markdown",
   "id": "8ac0f52c-06d9-4fd2-9b7f-e62d1c86ba45",
   "metadata": {},
   "source": [
    "# Playground"
   ]
  },
  {
   "cell_type": "code",
   "execution_count": 23,
   "id": "d45bd979-050b-4d78-92cf-04de7fbdbfe7",
   "metadata": {},
   "outputs": [
    {
     "name": "stdout",
     "output_type": "stream",
     "text": [
      "CPU times: total: 0 ns\n",
      "Wall time: 25.1 s\n"
     ]
    }
   ],
   "source": [
    "%%time\n",
    "response = llm.invoke(\"Tell me who is the best chess player in the history in the Batman voice.\")"
   ]
  },
  {
   "cell_type": "code",
   "execution_count": 25,
   "id": "a6492764-1613-46fb-a02d-e2795f39d55b",
   "metadata": {},
   "outputs": [
    {
     "name": "stdout",
     "output_type": "stream",
     "text": [
      "(In a deep, gravelly Batman-esque tone)\n",
      "\n",
      "\"Listen up, citizen. I'm not just talking about any old chess player here. No, no. I'm talking about the greatest of all time. The one and only... Garry Kasparov.\n",
      "\n",
      "(Kasparov's name is spoken with a hint of reverence)\n",
      "\n",
      "This Russian grandmaster was a force to be reckoned with on the board. His aggressive playing style, his mastery of openings and endgames... it was like he had a sixth sense for chess. And don't even get me started on his tournament record. The man won 11 out of 12 tournaments he played in during his prime.\n",
      "\n",
      "(Kasparov's name is repeated with emphasis)\n",
      "\n",
      "Now, I know what you're thinking. 'Batman, what about Bobby Fischer?' Ah, yes, the American chess prodigy was a great player in his own right. But let me tell you, Kasparov was on a whole different level. He was like the Dark Knight of chess - dark, gritty, and unstoppable.\n",
      "\n",
      "(Kasparov's name is spoken once more)\n",
      "\n",
      "So there you have it, citizen. Garry Kasparov: the best chess player in history. And if you don't like it... well, that's your problem.\"\n"
     ]
    }
   ],
   "source": [
    "print(response)"
   ]
  },
  {
   "cell_type": "code",
   "execution_count": null,
   "id": "2c132acc-a787-419d-b2d8-5d250aa0b6c6",
   "metadata": {},
   "outputs": [],
   "source": []
  }
 ],
 "metadata": {
  "kernelspec": {
   "display_name": "Python 3 (ipykernel)",
   "language": "python",
   "name": "python3"
  },
  "language_info": {
   "codemirror_mode": {
    "name": "ipython",
    "version": 3
   },
   "file_extension": ".py",
   "mimetype": "text/x-python",
   "name": "python",
   "nbconvert_exporter": "python",
   "pygments_lexer": "ipython3",
   "version": "3.12.3"
  }
 },
 "nbformat": 4,
 "nbformat_minor": 5
}
