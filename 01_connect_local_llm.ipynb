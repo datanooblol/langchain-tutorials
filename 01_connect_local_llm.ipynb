{
 "cells": [
  {
   "cell_type": "markdown",
   "id": "6b2292da-06d0-4314-951d-94397654bfd4",
   "metadata": {},
   "source": [
    "# Setup"
   ]
  },
  {
   "cell_type": "code",
   "execution_count": null,
   "id": "f438efa1-ab65-4c19-bd05-dc8f02acc70c",
   "metadata": {},
   "outputs": [],
   "source": [
    "## "
   ]
  },
  {
   "cell_type": "code",
   "execution_count": 1,
   "id": "b8fa5311-3777-4734-9f26-83a1e049c155",
   "metadata": {},
   "outputs": [],
   "source": [
    "url = 'http://localhost:11434'\n",
    "model = 'llama3'"
   ]
  },
  {
   "cell_type": "markdown",
   "id": "34f60ea1-5c29-400d-9c6f-4d3c4d87dbed",
   "metadata": {},
   "source": [
    "## Load environment variables"
   ]
  },
  {
   "cell_type": "code",
   "execution_count": 4,
   "id": "3be6c1b3-1ef2-44e2-8ef6-d8396d10ed58",
   "metadata": {},
   "outputs": [
    {
     "data": {
      "text/plain": [
       "True"
      ]
     },
     "execution_count": 4,
     "metadata": {},
     "output_type": "execute_result"
    }
   ],
   "source": [
    "from dotenv import load_dotenv\n",
    "\n",
    "# load and store you secret api key\n",
    "load_dotenv()"
   ]
  },
  {
   "cell_type": "code",
   "execution_count": 7,
   "id": "0bfc0488-585c-4279-9619-edc378bd8550",
   "metadata": {},
   "outputs": [],
   "source": [
    "import os\n",
    "\n",
    "# os.environ"
   ]
  },
  {
   "cell_type": "code",
   "execution_count": 8,
   "id": "16b3dd47-410a-435d-9e7f-e536c00d33a3",
   "metadata": {},
   "outputs": [],
   "source": [
    "# os.environ.get(\"TAVILY_API_KEY\")"
   ]
  },
  {
   "cell_type": "markdown",
   "id": "806ab90c-5dac-431c-b058-2287a90e75af",
   "metadata": {},
   "source": [
    "## Initialize Model"
   ]
  },
  {
   "cell_type": "code",
   "execution_count": 9,
   "id": "3597fad2-b0e8-43cb-830b-4f22ec84590f",
   "metadata": {},
   "outputs": [],
   "source": [
    "from langchain_community.llms import Ollama\n",
    "\n",
    "llm = Ollama(base_url=url, model=model, temperature=0)"
   ]
  },
  {
   "cell_type": "code",
   "execution_count": 10,
   "id": "5bc7352f-00a9-4e51-a726-753d91fd537f",
   "metadata": {},
   "outputs": [
    {
     "name": "stdout",
     "output_type": "stream",
     "text": [
      "CPU times: total: 0 ns\n",
      "Wall time: 3.66 s\n"
     ]
    },
    {
     "data": {
      "text/plain": [
       "\"Hi! It's nice to meet you. Is there something I can help you with, or would you like to chat?\""
      ]
     },
     "execution_count": 10,
     "metadata": {},
     "output_type": "execute_result"
    }
   ],
   "source": [
    "%%time\n",
    "llm.invoke(\"Hi\")"
   ]
  },
  {
   "cell_type": "markdown",
   "id": "8ace52d7-c015-4047-a18a-2a4d906e38d6",
   "metadata": {},
   "source": [
    "## Initialize Model with function (Not for now)"
   ]
  },
  {
   "cell_type": "code",
   "execution_count": 11,
   "id": "065655da-433d-4690-8437-c911fdf43002",
   "metadata": {},
   "outputs": [],
   "source": [
    "from langchain_experimental.llms.ollama_functions import OllamaFunctions\n",
    "\n",
    "agent_llm = OllamaFunctions(base_url=url, model=model, format=\"json\", temperature=0)"
   ]
  },
  {
   "cell_type": "code",
   "execution_count": 12,
   "id": "eb7fa739-d1f4-4782-8294-4bd9a855f03d",
   "metadata": {},
   "outputs": [
    {
     "name": "stdout",
     "output_type": "stream",
     "text": [
      "CPU times: total: 0 ns\n",
      "Wall time: 7.66 s\n"
     ]
    },
    {
     "data": {
      "text/plain": [
       "AIMessage(content='Hello! How can I help you today?', id='run-f78a68dd-3fdc-4433-965e-a08b10faa1ff-0')"
      ]
     },
     "execution_count": 12,
     "metadata": {},
     "output_type": "execute_result"
    }
   ],
   "source": [
    "%%time\n",
    "agent_llm.invoke(\"Hi\")"
   ]
  }
 ],
 "metadata": {
  "kernelspec": {
   "display_name": "Python 3 (ipykernel)",
   "language": "python",
   "name": "python3"
  },
  "language_info": {
   "codemirror_mode": {
    "name": "ipython",
    "version": 3
   },
   "file_extension": ".py",
   "mimetype": "text/x-python",
   "name": "python",
   "nbconvert_exporter": "python",
   "pygments_lexer": "ipython3",
   "version": "3.12.3"
  }
 },
 "nbformat": 4,
 "nbformat_minor": 5
}
