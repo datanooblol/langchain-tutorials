{
 "cells": [
  {
   "cell_type": "code",
   "execution_count": 1,
   "id": "7969cffc-0c8d-44ef-b3ff-d512aed84ebb",
   "metadata": {},
   "outputs": [],
   "source": [
    "from langchain_community.document_loaders import UnstructuredMarkdownLoader"
   ]
  },
  {
   "cell_type": "markdown",
   "id": "5650101c-d4f7-4d59-a7de-4eb77dc44f38",
   "metadata": {},
   "source": [
    "# Loading\n",
    "\n",
    "Reading documents is a crucial part of RAG-LLM Chatbot (or any type of Chatbot requiring a context for generating an answer).  \n",
    "Hence, you have to familiarize yourself with how to load the documents in a wide variety of formats.  \n",
    "\n",
    "No small talk now, let's load it!"
   ]
  },
  {
   "cell_type": "markdown",
   "id": "4ec072d8-e0bb-4bce-93eb-0b0954f3b0fb",
   "metadata": {},
   "source": [
    "## Markdown format"
   ]
  },
  {
   "cell_type": "code",
   "execution_count": 2,
   "id": "96265cf9-5fc1-44f7-88f6-08ef6bbedab3",
   "metadata": {},
   "outputs": [],
   "source": [
    "markdown_path = \"documents/markdown_file.md\"\n",
    "loader = UnstructuredMarkdownLoader(markdown_path)"
   ]
  },
  {
   "cell_type": "code",
   "execution_count": 3,
   "id": "5b9b181e-db4d-445d-be9b-5f8b0df098fc",
   "metadata": {},
   "outputs": [],
   "source": [
    "docs = loader.load()"
   ]
  },
  {
   "cell_type": "code",
   "execution_count": 4,
   "id": "63adee9c-c74e-4840-bbfb-be64fbfc4ad9",
   "metadata": {},
   "outputs": [
    {
     "data": {
      "text/plain": [
       "1"
      ]
     },
     "execution_count": 4,
     "metadata": {},
     "output_type": "execute_result"
    }
   ],
   "source": [
    "len(docs)"
   ]
  },
  {
   "cell_type": "code",
   "execution_count": 27,
   "id": "a68acaed-2a61-444f-9e5f-91673e58d486",
   "metadata": {},
   "outputs": [
    {
     "data": {
      "text/plain": [
       "[Document(page_content='Markdown Loader\\n\\nHere is an example of a file in .md format.\\n\\nThis type of file is mostly used in programming on daily basis,\\n\\nso if you need to use it as a data source, be sure you choose the right Loader and proper Chunking strategies.\\n\\nAdvantages\\n\\nits format is mostly easy to extract\\n\\nthere is one good trick you have to learn, which is to convert your pdf file to markdown file and then load it from the markdown. This way can save your life in the future.', metadata={'source': 'documents/markdown_file.md'})]"
      ]
     },
     "execution_count": 27,
     "metadata": {},
     "output_type": "execute_result"
    }
   ],
   "source": [
    "docs"
   ]
  },
  {
   "cell_type": "code",
   "execution_count": 28,
   "id": "c6257154-a22f-41c6-ade1-998673e366fd",
   "metadata": {},
   "outputs": [
    {
     "name": "stdout",
     "output_type": "stream",
     "text": [
      "Markdown Loader\n",
      "\n",
      "Here is an example of a file in .md format.\n",
      "\n",
      "This type of file is mostly used in programming on daily basis,\n",
      "\n",
      "so if you need to use it as a data source, be sure you choose the right Loader and proper Chunking strategies.\n",
      "\n",
      "Advantages\n",
      "\n",
      "its format is mostly easy to extract\n",
      "\n",
      "there is one good trick you have to learn, which is to convert your pdf file to markdown file and then load it from the markdown. This way can save your life in the future.\n"
     ]
    }
   ],
   "source": [
    "print(docs[0].page_content)"
   ]
  },
  {
   "cell_type": "markdown",
   "id": "b642968c-bd42-4f8a-a58f-187adba2d54b",
   "metadata": {},
   "source": [
    "## Text format"
   ]
  },
  {
   "cell_type": "code",
   "execution_count": 32,
   "id": "ba3120b9-8a49-441b-bc14-f70bc2a73588",
   "metadata": {},
   "outputs": [],
   "source": [
    "from langchain_community.document_loaders import TextLoader\n",
    "\n",
    "loader = TextLoader(file_path='./documents/text_file.txt')\n",
    "docs = loader.load()"
   ]
  },
  {
   "cell_type": "code",
   "execution_count": 33,
   "id": "4299ad08-f938-4734-b078-85f2439b5bfc",
   "metadata": {},
   "outputs": [
    {
     "data": {
      "text/plain": [
       "[Document(page_content='Here is an example of a file in .txt format. This type of file is mostly used in note taking or casual drafts, so if you need to use it as a data source, be sure you choose the right Loader and proper Chunking strategies.\\n', metadata={'source': './documents/text_file.txt'})]"
      ]
     },
     "execution_count": 33,
     "metadata": {},
     "output_type": "execute_result"
    }
   ],
   "source": [
    "docs"
   ]
  },
  {
   "cell_type": "code",
   "execution_count": 34,
   "id": "c89fc248-7c28-4e27-93e9-e06fc48986f0",
   "metadata": {},
   "outputs": [
    {
     "name": "stdout",
     "output_type": "stream",
     "text": [
      "Here is an example of a file in .txt format. This type of file is mostly used in note taking or casual drafts, so if you need to use it as a data source, be sure you choose the right Loader and proper Chunking strategies.\n",
      "\n"
     ]
    }
   ],
   "source": [
    "print(docs[0].page_content)"
   ]
  },
  {
   "cell_type": "markdown",
   "id": "c635c16b-4fc5-45e9-b8b9-bda97427c820",
   "metadata": {},
   "source": [
    "## CSV format"
   ]
  },
  {
   "cell_type": "code",
   "execution_count": 29,
   "id": "8f46b5ad-b6a1-4e75-b5d1-0417397a3969",
   "metadata": {},
   "outputs": [],
   "source": [
    "from langchain_community.document_loaders.csv_loader import CSVLoader\n",
    "\n",
    "loader = CSVLoader(file_path='./documents/csv_file.csv')\n",
    "docs = loader.load()"
   ]
  },
  {
   "cell_type": "code",
   "execution_count": 30,
   "id": "ca0621b3-458e-417c-ba69-5e36c627e4dc",
   "metadata": {},
   "outputs": [
    {
     "data": {
      "text/plain": [
       "[Document(page_content='item_no: 1\\nformat: excel\\ndescription: this is an example of data in excel format', metadata={'source': './documents/csv_file.csv', 'row': 0}),\n",
       " Document(page_content='item_no: 2\\nformat: csv\\ndescription: this is an example of data in csv format', metadata={'source': './documents/csv_file.csv', 'row': 1})]"
      ]
     },
     "execution_count": 30,
     "metadata": {},
     "output_type": "execute_result"
    }
   ],
   "source": [
    "docs"
   ]
  },
  {
   "cell_type": "code",
   "execution_count": 31,
   "id": "57be482b-59a2-49b5-a9e6-83ab0be1e994",
   "metadata": {},
   "outputs": [
    {
     "name": "stdout",
     "output_type": "stream",
     "text": [
      "item_no: 1\n",
      "format: excel\n",
      "description: this is an example of data in excel format\n"
     ]
    }
   ],
   "source": [
    "print(docs[0].page_content)"
   ]
  },
  {
   "cell_type": "markdown",
   "id": "1d529b49-5f1c-4aec-aac1-4590b3e70e54",
   "metadata": {},
   "source": [
    "## EXCEL format  \n",
    "It's not easy to do it in excel format, so you may need to workaround as follows:\n",
    "- read the excel and convert to csv, and take it from there\n",
    "- find some libraries that can handle the table or irregular template use cases"
   ]
  },
  {
   "cell_type": "markdown",
   "id": "068f5483-9787-4fe5-b8a5-8d0f996f96fb",
   "metadata": {},
   "source": [
    "### without mode=\"elements\""
   ]
  },
  {
   "cell_type": "code",
   "execution_count": 54,
   "id": "3700f585-4913-4e89-a9c9-4b9da7dbc799",
   "metadata": {},
   "outputs": [
    {
     "data": {
      "text/plain": [
       "[Document(page_content='\\n\\n\\nitem_no\\nformat\\ndescription\\n\\n\\n1\\nexcel\\nthis is an example of data in excel format\\n\\n\\n2\\ncsv\\nthis is an example of data in csv format\\n\\n\\n', metadata={'source': './documents/excel_file.xlsx'})]"
      ]
     },
     "execution_count": 54,
     "metadata": {},
     "output_type": "execute_result"
    }
   ],
   "source": [
    "from langchain_community.document_loaders import UnstructuredExcelLoader\n",
    "\n",
    "loader = UnstructuredExcelLoader(file_path='./documents/excel_file.xlsx')\n",
    "docs = loader.load()\n",
    "docs"
   ]
  },
  {
   "cell_type": "code",
   "execution_count": 55,
   "id": "192248fc-5075-4eed-ac85-e88315723207",
   "metadata": {
    "scrolled": true
   },
   "outputs": [
    {
     "name": "stdout",
     "output_type": "stream",
     "text": [
      "\n",
      "\n",
      "\n",
      "item_no\n",
      "format\n",
      "description\n",
      "\n",
      "\n",
      "1\n",
      "excel\n",
      "this is an example of data in excel format\n",
      "\n",
      "\n",
      "2\n",
      "csv\n",
      "this is an example of data in csv format\n",
      "\n",
      "\n",
      "\n"
     ]
    }
   ],
   "source": [
    "print(docs[0].page_content)"
   ]
  },
  {
   "cell_type": "markdown",
   "id": "c7ace434-a48e-47de-aa9f-899fc63f0e75",
   "metadata": {},
   "source": [
    "### with mode=\"elements\""
   ]
  },
  {
   "cell_type": "code",
   "execution_count": 56,
   "id": "ec46dbf9-0e60-481a-8a1c-3d26e5180f80",
   "metadata": {},
   "outputs": [
    {
     "data": {
      "text/plain": [
       "[Document(page_content='\\n\\n\\nitem_no\\nformat\\ndescription\\n\\n\\n1\\nexcel\\nthis is an example of data in excel format\\n\\n\\n2\\ncsv\\nthis is an example of data in csv format\\n\\n\\n', metadata={'source': './documents/excel_file.xlsx', 'file_directory': './documents', 'filename': 'excel_file.xlsx', 'last_modified': '2024-06-01T13:10:49', 'page_name': 'Sheet1', 'page_number': 1, 'text_as_html': '<table border=\"1\" class=\"dataframe\">\\n  <tbody>\\n    <tr>\\n      <td>item_no</td>\\n      <td>format</td>\\n      <td>description</td>\\n    </tr>\\n    <tr>\\n      <td>1</td>\\n      <td>excel</td>\\n      <td>this is an example of data in excel format</td>\\n    </tr>\\n    <tr>\\n      <td>2</td>\\n      <td>csv</td>\\n      <td>this is an example of data in csv format</td>\\n    </tr>\\n  </tbody>\\n</table>', 'languages': ['eng'], 'filetype': 'application/vnd.openxmlformats-officedocument.spreadsheetml.sheet', 'category': 'Table'})]"
      ]
     },
     "execution_count": 56,
     "metadata": {},
     "output_type": "execute_result"
    }
   ],
   "source": [
    "loader = UnstructuredExcelLoader(file_path='./documents/excel_file.xlsx', mode=\"elements\")\n",
    "docs = loader.load()\n",
    "docs"
   ]
  },
  {
   "cell_type": "code",
   "execution_count": 57,
   "id": "99202ae8-5bb6-4f5c-bddc-d850d299be66",
   "metadata": {},
   "outputs": [
    {
     "name": "stdout",
     "output_type": "stream",
     "text": [
      "\n",
      "\n",
      "\n",
      "item_no\n",
      "format\n",
      "description\n",
      "\n",
      "\n",
      "1\n",
      "excel\n",
      "this is an example of data in excel format\n",
      "\n",
      "\n",
      "2\n",
      "csv\n",
      "this is an example of data in csv format\n",
      "\n",
      "\n",
      "\n"
     ]
    }
   ],
   "source": [
    "print(docs[0].page_content)"
   ]
  },
  {
   "cell_type": "markdown",
   "id": "0ef148fd-5111-47e1-9c6b-02546a59a178",
   "metadata": {},
   "source": [
    "## PDF format"
   ]
  },
  {
   "cell_type": "code",
   "execution_count": 66,
   "id": "c6c63b0d-92ac-4eec-af49-d53f72aa99a0",
   "metadata": {},
   "outputs": [
    {
     "data": {
      "text/plain": [
       "[Document(page_content='The PDF Document Loader\\nHere is an example of a file in .pdf format. This type of file is mostly used in contract, agreement,\\nlegal documents, so if you need to use it as a data source, be sure you choose the right Loader and proper\\nChunking strategies.\\nRemember\\nThe pdf file is tricky because it can come in different formats as the following examples:\\nOne Column\\nThis is an example of one column pdf document. You can see in this part that it stretches the text from the\\nleft to the right as one long single piece.\\nTwo Columns\\nThis is an example of one column pdf document.\\nYou can see in this part that it doesn’t stretch the\\ntext from the left to the right as one long single\\npiece. Instead, it breaks into the new columns\\nConclusion\\nUsing pdf files is a challenging task, you have to debug often. Also learn their limitations, and leverage\\nthem wisely, so you don’t end up fixing a bug until you die!!\\nNote:\\n-\\nText pdf is feasible, but Image pdf is terrible\\n-\\nHandwritten in the pdf file can bite you in the ass\\n-\\nScanning documents to create a pdf file is widely used, but this is one of many enemies you have to\\nfight with on a daily basis.\\n', metadata={'source': 'documents/pdf_file.pdf', 'file_path': 'documents/pdf_file.pdf', 'page': 0, 'total_pages': 1, 'format': 'PDF 1.4', 'title': 'pdf_file', 'author': '', 'subject': '', 'keywords': '', 'creator': '', 'producer': 'Skia/PDF m127 Google Docs Renderer', 'creationDate': '', 'modDate': '', 'trapped': ''})]"
      ]
     },
     "execution_count": 66,
     "metadata": {},
     "output_type": "execute_result"
    }
   ],
   "source": [
    "from langchain_community.document_loaders.pdf import PyMuPDFLoader\n",
    "\n",
    "loader = PyMuPDFLoader(file_path=\"documents/pdf_file.pdf\")\n",
    "docs = loader.load()\n",
    "docs"
   ]
  },
  {
   "cell_type": "code",
   "execution_count": 67,
   "id": "e1d8d15d-3859-4f2f-b64b-224275488eb3",
   "metadata": {},
   "outputs": [
    {
     "name": "stdout",
     "output_type": "stream",
     "text": [
      "The PDF Document Loader\n",
      "Here is an example of a file in .pdf format. This type of file is mostly used in contract, agreement,\n",
      "legal documents, so if you need to use it as a data source, be sure you choose the right Loader and proper\n",
      "Chunking strategies.\n",
      "Remember\n",
      "The pdf file is tricky because it can come in different formats as the following examples:\n",
      "One Column\n",
      "This is an example of one column pdf document. You can see in this part that it stretches the text from the\n",
      "left to the right as one long single piece.\n",
      "Two Columns\n",
      "This is an example of one column pdf document.\n",
      "You can see in this part that it doesn’t stretch the\n",
      "text from the left to the right as one long single\n",
      "piece. Instead, it breaks into the new columns\n",
      "Conclusion\n",
      "Using pdf files is a challenging task, you have to debug often. Also learn their limitations, and leverage\n",
      "them wisely, so you don’t end up fixing a bug until you die!!\n",
      "Note:\n",
      "-\n",
      "Text pdf is feasible, but Image pdf is terrible\n",
      "-\n",
      "Handwritten in the pdf file can bite you in the ass\n",
      "-\n",
      "Scanning documents to create a pdf file is widely used, but this is one of many enemies you have to\n",
      "fight with on a daily basis.\n",
      "\n"
     ]
    }
   ],
   "source": [
    "print(docs[0].page_content)"
   ]
  },
  {
   "cell_type": "markdown",
   "id": "9c11cc3f-b6a4-475e-a57d-f0ed8610f183",
   "metadata": {},
   "source": [
    "## HTML format"
   ]
  },
  {
   "cell_type": "markdown",
   "id": "b8176949-30e1-4985-af23-760e54a30f43",
   "metadata": {},
   "source": [
    "### Common way to load HTML"
   ]
  },
  {
   "cell_type": "code",
   "execution_count": 68,
   "id": "0241a70c-ae21-4420-90e1-bc72d3b48d33",
   "metadata": {},
   "outputs": [
    {
     "data": {
      "text/plain": [
       "[Document(page_content='\\n\\nComponents\\n\\nDocument loaders\\n\\nURL\\n\\nURL\\n\\nThis example covers how to load HTML documents from a list of URLs into the Document format that we can use downstream.\\n\\nUnstructured URL Loader\\u200b\\n\\nYou have to install the unstructured library:\\n\\n!pip install\\n\\nU unstructured\\n\\nfrom\\n\\nlangchain_community\\n\\ndocument_loaders\\n\\nimport\\n\\nUnstructuredURLLoader\\n\\nAPI Reference:\\n\\nUnstructuredURLLoader\\n\\nurls\\n\\n\"https://www.understandingwar.org/backgrounder/russian-offensive-campaign-assessment-february-8-2023\"\\n\\n\"https://www.understandingwar.org/backgrounder/russian-offensive-campaign-assessment-february-9-2023\"\\n\\nPass in ssl_verify=False with headers=headers to get past ssl_verification error.\\n\\nloader\\n\\nUnstructuredURLLoader\\n\\nurls\\n\\nurls\\n\\ndata\\n\\nloader\\n\\nload\\n\\nSelenium URL Loader\\u200b\\n\\nThis covers how to load HTML documents from a list of URLs using the SeleniumURLLoader.\\n\\nUsing Selenium allows us to load pages that require JavaScript to render.\\n\\nTo use the SeleniumURLLoader, you have to install selenium and unstructured.\\n\\n!pip install\\n\\nU selenium unstructured\\n\\nfrom\\n\\nlangchain_community\\n\\ndocument_loaders\\n\\nimport\\n\\nSeleniumURLLoader\\n\\nAPI Reference:\\n\\nSeleniumURLLoader\\n\\nurls\\n\\n\"https://www.youtube.com/watch?v=dQw4w9WgXcQ\"\\n\\n\"https://goo.gl/maps/NDSHwePEyaHMFGwh8\"\\n\\nloader\\n\\nSeleniumURLLoader\\n\\nurls\\n\\nurls\\n\\ndata\\n\\nloader\\n\\nload\\n\\nPlaywright URL Loader\\u200b\\n\\nThis covers how to load HTML documents from a list of URLs using the PlaywrightURLLoader.\\n\\nPlaywright enables reliable end-to-end testing for modern web apps.\\n\\nAs in the Selenium case, Playwright allows us to load and render the JavaScript pages.\\n\\nTo use the PlaywrightURLLoader, you have to install playwright and unstructured. Additionally, you have to install the Playwright Chromium browser:\\n\\n!pip install\\n\\nU playwright unstructured\\n\\n!playwright install\\n\\nfrom\\n\\nlangchain_community\\n\\ndocument_loaders\\n\\nimport\\n\\nPlaywrightURLLoader\\n\\nAPI Reference:\\n\\nPlaywrightURLLoader\\n\\nurls\\n\\n\"https://www.youtube.com/watch?v=dQw4w9WgXcQ\"\\n\\n\"https://goo.gl/maps/NDSHwePEyaHMFGwh8\"\\n\\nloader\\n\\nPlaywrightURLLoader\\n\\nurls\\n\\nurls\\n\\nremove_selectors\\n\\n\"header\"\\n\\n\"footer\"\\n\\ndata\\n\\nloader\\n\\nload\\n\\nHelp us out by providing feedback on this documentation page:\\n\\nPreviousUpstage\\n\\nNextVsdx\\n\\nUnstructured URL Loader\\n\\nSelenium URL Loader\\n\\nPlaywright URL Loader', metadata={'source': 'https://python.langchain.com/v0.1/docs/integrations/document_loaders/url/'})]"
      ]
     },
     "execution_count": 68,
     "metadata": {},
     "output_type": "execute_result"
    }
   ],
   "source": [
    "from langchain_community.document_loaders import UnstructuredURLLoader\n",
    "\n",
    "urls = [\n",
    "    \"https://python.langchain.com/v0.1/docs/integrations/document_loaders/url/\",\n",
    "]\n",
    "\n",
    "loader = UnstructuredURLLoader(urls=urls)\n",
    "docs = loader.load()\n",
    "docs"
   ]
  },
  {
   "cell_type": "code",
   "execution_count": 69,
   "id": "4893b481-c0f2-42c4-9394-7ce371428b13",
   "metadata": {},
   "outputs": [
    {
     "name": "stdout",
     "output_type": "stream",
     "text": [
      "\n",
      "\n",
      "Components\n",
      "\n",
      "Document loaders\n",
      "\n",
      "URL\n",
      "\n",
      "URL\n",
      "\n",
      "This example covers how to load HTML documents from a list of URLs into the Document format that we can use downstream.\n",
      "\n",
      "Unstructured URL Loader​\n",
      "\n",
      "You have to install the unstructured library:\n",
      "\n",
      "!pip install\n",
      "\n",
      "U unstructured\n",
      "\n",
      "from\n",
      "\n",
      "langchain_community\n",
      "\n",
      "document_loaders\n",
      "\n",
      "import\n",
      "\n",
      "UnstructuredURLLoader\n",
      "\n",
      "API Reference:\n",
      "\n",
      "UnstructuredURLLoader\n",
      "\n",
      "urls\n",
      "\n",
      "\"https://www.understandingwar.org/backgrounder/russian-offensive-campaign-assessment-february-8-2023\"\n",
      "\n",
      "\"https://www.understandingwar.org/backgrounder/russian-offensive-campaign-assessment-february-9-2023\"\n",
      "\n",
      "Pass in ssl_verify=False with headers=headers to get past ssl_verification error.\n",
      "\n",
      "loader\n",
      "\n",
      "UnstructuredURLLoader\n",
      "\n",
      "urls\n",
      "\n",
      "urls\n",
      "\n",
      "data\n",
      "\n",
      "loader\n",
      "\n",
      "load\n",
      "\n",
      "Selenium URL Loader​\n",
      "\n",
      "This covers how to load HTML documents from a list of URLs using the SeleniumURLLoader.\n",
      "\n",
      "Using Selenium allows us to load pages that require JavaScript to render.\n",
      "\n",
      "To use the SeleniumURLLoader, you have to install selenium and unstructured.\n",
      "\n",
      "!pip install\n",
      "\n",
      "U selenium unstructured\n",
      "\n",
      "from\n",
      "\n",
      "langchain_community\n",
      "\n",
      "document_loaders\n",
      "\n",
      "import\n",
      "\n",
      "SeleniumURLLoader\n",
      "\n",
      "API Reference:\n",
      "\n",
      "SeleniumURLLoader\n",
      "\n",
      "urls\n",
      "\n",
      "\"https://www.youtube.com/watch?v=dQw4w9WgXcQ\"\n",
      "\n",
      "\"https://goo.gl/maps/NDSHwePEyaHMFGwh8\"\n",
      "\n",
      "loader\n",
      "\n",
      "SeleniumURLLoader\n",
      "\n",
      "urls\n",
      "\n",
      "urls\n",
      "\n",
      "data\n",
      "\n",
      "loader\n",
      "\n",
      "load\n",
      "\n",
      "Playwright URL Loader​\n",
      "\n",
      "This covers how to load HTML documents from a list of URLs using the PlaywrightURLLoader.\n",
      "\n",
      "Playwright enables reliable end-to-end testing for modern web apps.\n",
      "\n",
      "As in the Selenium case, Playwright allows us to load and render the JavaScript pages.\n",
      "\n",
      "To use the PlaywrightURLLoader, you have to install playwright and unstructured. Additionally, you have to install the Playwright Chromium browser:\n",
      "\n",
      "!pip install\n",
      "\n",
      "U playwright unstructured\n",
      "\n",
      "!playwright install\n",
      "\n",
      "from\n",
      "\n",
      "langchain_community\n",
      "\n",
      "document_loaders\n",
      "\n",
      "import\n",
      "\n",
      "PlaywrightURLLoader\n",
      "\n",
      "API Reference:\n",
      "\n",
      "PlaywrightURLLoader\n",
      "\n",
      "urls\n",
      "\n",
      "\"https://www.youtube.com/watch?v=dQw4w9WgXcQ\"\n",
      "\n",
      "\"https://goo.gl/maps/NDSHwePEyaHMFGwh8\"\n",
      "\n",
      "loader\n",
      "\n",
      "PlaywrightURLLoader\n",
      "\n",
      "urls\n",
      "\n",
      "urls\n",
      "\n",
      "remove_selectors\n",
      "\n",
      "\"header\"\n",
      "\n",
      "\"footer\"\n",
      "\n",
      "data\n",
      "\n",
      "loader\n",
      "\n",
      "load\n",
      "\n",
      "Help us out by providing feedback on this documentation page:\n",
      "\n",
      "PreviousUpstage\n",
      "\n",
      "NextVsdx\n",
      "\n",
      "Unstructured URL Loader\n",
      "\n",
      "Selenium URL Loader\n",
      "\n",
      "Playwright URL Loader\n"
     ]
    }
   ],
   "source": [
    "print(docs[0].page_content)"
   ]
  },
  {
   "cell_type": "markdown",
   "id": "505436e3-da93-42d1-bebb-dcab3816c6d8",
   "metadata": {},
   "source": [
    "### If the site needs javascript to render"
   ]
  },
  {
   "cell_type": "code",
   "execution_count": 72,
   "id": "815ae2b9-391b-4065-a142-bb28aa8eacea",
   "metadata": {},
   "outputs": [
    {
     "data": {
      "text/plain": [
       "[Document(page_content='\\n\\nComponents\\n\\nDocument loaders\\n\\nURL\\n\\nURL\\n\\nThis example covers how to load HTML documents from a list of URLs into the Document format that we can use downstream.\\n\\nUnstructured URL Loader\\u200b\\n\\nYou have to install the unstructured library:\\n\\n!pip install\\n\\nU unstructured\\n\\nfrom\\n\\nlangchain_community\\n\\ndocument_loaders\\n\\nimport\\n\\nUnstructuredURLLoader\\n\\nAPI Reference:\\n\\nUnstructuredURLLoader\\n\\nurls\\n\\n\"https://www.understandingwar.org/backgrounder/russian-offensive-campaign-assessment-february-8-2023\"\\n\\n\"https://www.understandingwar.org/backgrounder/russian-offensive-campaign-assessment-february-9-2023\"\\n\\nPass in ssl_verify=False with headers=headers to get past ssl_verification error.\\n\\nloader\\n\\nUnstructuredURLLoader\\n\\nurls\\n\\nurls\\n\\ndata\\n\\nloader\\n\\nload\\n\\nSelenium URL Loader\\u200b\\n\\nThis covers how to load HTML documents from a list of URLs using the SeleniumURLLoader.\\n\\nUsing Selenium allows us to load pages that require JavaScript to render.\\n\\nTo use the SeleniumURLLoader, you have to install selenium and unstructured.\\n\\n!pip install\\n\\nU selenium unstructured\\n\\nfrom\\n\\nlangchain_community\\n\\ndocument_loaders\\n\\nimport\\n\\nSeleniumURLLoader\\n\\nAPI Reference:\\n\\nSeleniumURLLoader\\n\\nurls\\n\\n\"https://www.youtube.com/watch?v=dQw4w9WgXcQ\"\\n\\n\"https://goo.gl/maps/NDSHwePEyaHMFGwh8\"\\n\\nloader\\n\\nSeleniumURLLoader\\n\\nurls\\n\\nurls\\n\\ndata\\n\\nloader\\n\\nload\\n\\nPlaywright URL Loader\\u200b\\n\\nThis covers how to load HTML documents from a list of URLs using the PlaywrightURLLoader.\\n\\nPlaywright enables reliable end-to-end testing for modern web apps.\\n\\nAs in the Selenium case, Playwright allows us to load and render the JavaScript pages.\\n\\nTo use the PlaywrightURLLoader, you have to install playwright and unstructured. Additionally, you have to install the Playwright Chromium browser:\\n\\n!pip install\\n\\nU playwright unstructured\\n\\n!playwright install\\n\\nfrom\\n\\nlangchain_community\\n\\ndocument_loaders\\n\\nimport\\n\\nPlaywrightURLLoader\\n\\nAPI Reference:\\n\\nPlaywrightURLLoader\\n\\nurls\\n\\n\"https://www.youtube.com/watch?v=dQw4w9WgXcQ\"\\n\\n\"https://goo.gl/maps/NDSHwePEyaHMFGwh8\"\\n\\nloader\\n\\nPlaywrightURLLoader\\n\\nurls\\n\\nurls\\n\\nremove_selectors\\n\\n\"header\"\\n\\n\"footer\"\\n\\ndata\\n\\nloader\\n\\nload\\n\\nHelp us out by providing feedback on this documentation page:\\n\\nPreviousUpstage\\n\\nNextVsdx', metadata={'source': 'https://python.langchain.com/v0.1/docs/integrations/document_loaders/url/', 'title': 'URL | 🦜️🔗 LangChain', 'description': 'This example covers how to load HTML documents from a list of URLs into the Document format that we can use downstream.', 'language': 'en'})]"
      ]
     },
     "execution_count": 72,
     "metadata": {},
     "output_type": "execute_result"
    }
   ],
   "source": [
    "from langchain_community.document_loaders import SeleniumURLLoader\n",
    "\n",
    "loader = SeleniumURLLoader(urls=urls)\n",
    "docs = loader.load()\n",
    "docs"
   ]
  },
  {
   "cell_type": "code",
   "execution_count": 73,
   "id": "e9c78247-4996-4884-afde-59a45cac2eda",
   "metadata": {},
   "outputs": [
    {
     "name": "stdout",
     "output_type": "stream",
     "text": [
      "\n",
      "\n",
      "Components\n",
      "\n",
      "Document loaders\n",
      "\n",
      "URL\n",
      "\n",
      "URL\n",
      "\n",
      "This example covers how to load HTML documents from a list of URLs into the Document format that we can use downstream.\n",
      "\n",
      "Unstructured URL Loader​\n",
      "\n",
      "You have to install the unstructured library:\n",
      "\n",
      "!pip install\n",
      "\n",
      "U unstructured\n",
      "\n",
      "from\n",
      "\n",
      "langchain_community\n",
      "\n",
      "document_loaders\n",
      "\n",
      "import\n",
      "\n",
      "UnstructuredURLLoader\n",
      "\n",
      "API Reference:\n",
      "\n",
      "UnstructuredURLLoader\n",
      "\n",
      "urls\n",
      "\n",
      "\"https://www.understandingwar.org/backgrounder/russian-offensive-campaign-assessment-february-8-2023\"\n",
      "\n",
      "\"https://www.understandingwar.org/backgrounder/russian-offensive-campaign-assessment-february-9-2023\"\n",
      "\n",
      "Pass in ssl_verify=False with headers=headers to get past ssl_verification error.\n",
      "\n",
      "loader\n",
      "\n",
      "UnstructuredURLLoader\n",
      "\n",
      "urls\n",
      "\n",
      "urls\n",
      "\n",
      "data\n",
      "\n",
      "loader\n",
      "\n",
      "load\n",
      "\n",
      "Selenium URL Loader​\n",
      "\n",
      "This covers how to load HTML documents from a list of URLs using the SeleniumURLLoader.\n",
      "\n",
      "Using Selenium allows us to load pages that require JavaScript to render.\n",
      "\n",
      "To use the SeleniumURLLoader, you have to install selenium and unstructured.\n",
      "\n",
      "!pip install\n",
      "\n",
      "U selenium unstructured\n",
      "\n",
      "from\n",
      "\n",
      "langchain_community\n",
      "\n",
      "document_loaders\n",
      "\n",
      "import\n",
      "\n",
      "SeleniumURLLoader\n",
      "\n",
      "API Reference:\n",
      "\n",
      "SeleniumURLLoader\n",
      "\n",
      "urls\n",
      "\n",
      "\"https://www.youtube.com/watch?v=dQw4w9WgXcQ\"\n",
      "\n",
      "\"https://goo.gl/maps/NDSHwePEyaHMFGwh8\"\n",
      "\n",
      "loader\n",
      "\n",
      "SeleniumURLLoader\n",
      "\n",
      "urls\n",
      "\n",
      "urls\n",
      "\n",
      "data\n",
      "\n",
      "loader\n",
      "\n",
      "load\n",
      "\n",
      "Playwright URL Loader​\n",
      "\n",
      "This covers how to load HTML documents from a list of URLs using the PlaywrightURLLoader.\n",
      "\n",
      "Playwright enables reliable end-to-end testing for modern web apps.\n",
      "\n",
      "As in the Selenium case, Playwright allows us to load and render the JavaScript pages.\n",
      "\n",
      "To use the PlaywrightURLLoader, you have to install playwright and unstructured. Additionally, you have to install the Playwright Chromium browser:\n",
      "\n",
      "!pip install\n",
      "\n",
      "U playwright unstructured\n",
      "\n",
      "!playwright install\n",
      "\n",
      "from\n",
      "\n",
      "langchain_community\n",
      "\n",
      "document_loaders\n",
      "\n",
      "import\n",
      "\n",
      "PlaywrightURLLoader\n",
      "\n",
      "API Reference:\n",
      "\n",
      "PlaywrightURLLoader\n",
      "\n",
      "urls\n",
      "\n",
      "\"https://www.youtube.com/watch?v=dQw4w9WgXcQ\"\n",
      "\n",
      "\"https://goo.gl/maps/NDSHwePEyaHMFGwh8\"\n",
      "\n",
      "loader\n",
      "\n",
      "PlaywrightURLLoader\n",
      "\n",
      "urls\n",
      "\n",
      "urls\n",
      "\n",
      "remove_selectors\n",
      "\n",
      "\"header\"\n",
      "\n",
      "\"footer\"\n",
      "\n",
      "data\n",
      "\n",
      "loader\n",
      "\n",
      "load\n",
      "\n",
      "Help us out by providing feedback on this documentation page:\n",
      "\n",
      "PreviousUpstage\n",
      "\n",
      "NextVsdx\n"
     ]
    }
   ],
   "source": [
    "print(docs[0].page_content)"
   ]
  },
  {
   "cell_type": "markdown",
   "id": "4e8c9b08-2ed9-4bd7-b69d-e188d09d167c",
   "metadata": {},
   "source": [
    "# Playground"
   ]
  },
  {
   "cell_type": "code",
   "execution_count": 6,
   "id": "26469e52-4f42-48ed-9f5a-f20171f9c867",
   "metadata": {},
   "outputs": [
    {
     "data": {
      "text/plain": [
       "[Document(page_content=\"whoa there, pardner!\\n\\nYour request has been blocked due to a network policy.\\n\\nTry logging in or creating an account here to get back to browsing.\\n\\nIf you're running a script or application, please register or sign in with your developer credentials here. Additionally make sure your User-Agent is not empty and is something unique and descriptive and try again. if you're supplying an alternate User-Agent string,\\ntry changing back to default as that can sometimes result in a block.\\n\\nYou can read Reddit's Terms of Service here.\\n\\nif you think that we've incorrectly blocked you or you would like to discuss\\neasier ways to get the data you want, please file a ticket here.\\n\\nwhen contacting us, please include your ip address which is: 184.22.33.218 and reddit account\", metadata={'source': 'https://www.reddit.com/r/Expeditions/comments/1b84ow3/pug_is_too_way_imbalanced/', 'title': 'Blocked', 'description': 'No description found.', 'language': 'No language found.'})]"
      ]
     },
     "execution_count": 6,
     "metadata": {},
     "output_type": "execute_result"
    }
   ],
   "source": [
    "from langchain_community.document_loaders import SeleniumURLLoader\n",
    "urls = [\n",
    "    'https://www.reddit.com/r/Expeditions/comments/1b84ow3/pug_is_too_way_imbalanced/'\n",
    "]\n",
    "\n",
    "loader = SeleniumURLLoader(urls=urls)\n",
    "docs = loader.load()\n",
    "docs"
   ]
  },
  {
   "cell_type": "code",
   "execution_count": 7,
   "id": "61070142-b737-40f3-b9c5-5fc211f8addd",
   "metadata": {},
   "outputs": [
    {
     "data": {
      "text/plain": [
       "1"
      ]
     },
     "execution_count": 7,
     "metadata": {},
     "output_type": "execute_result"
    }
   ],
   "source": [
    "len(docs)"
   ]
  },
  {
   "cell_type": "code",
   "execution_count": 8,
   "id": "534e9d23-5127-4355-9cfe-3bb1b049d0b6",
   "metadata": {},
   "outputs": [
    {
     "name": "stdout",
     "output_type": "stream",
     "text": [
      "whoa there, pardner!\n",
      "\n",
      "Your request has been blocked due to a network policy.\n",
      "\n",
      "Try logging in or creating an account here to get back to browsing.\n",
      "\n",
      "If you're running a script or application, please register or sign in with your developer credentials here. Additionally make sure your User-Agent is not empty and is something unique and descriptive and try again. if you're supplying an alternate User-Agent string,\n",
      "try changing back to default as that can sometimes result in a block.\n",
      "\n",
      "You can read Reddit's Terms of Service here.\n",
      "\n",
      "if you think that we've incorrectly blocked you or you would like to discuss\n",
      "easier ways to get the data you want, please file a ticket here.\n",
      "\n",
      "when contacting us, please include your ip address which is: 184.22.33.218 and reddit account\n"
     ]
    }
   ],
   "source": [
    "print(docs[0].page_content)"
   ]
  },
  {
   "cell_type": "code",
   "execution_count": null,
   "id": "2ef85cfb-20b4-4128-842c-c12574f160f2",
   "metadata": {},
   "outputs": [],
   "source": []
  }
 ],
 "metadata": {
  "kernelspec": {
   "display_name": "Python 3 (ipykernel)",
   "language": "python",
   "name": "python3"
  },
  "language_info": {
   "codemirror_mode": {
    "name": "ipython",
    "version": 3
   },
   "file_extension": ".py",
   "mimetype": "text/x-python",
   "name": "python",
   "nbconvert_exporter": "python",
   "pygments_lexer": "ipython3",
   "version": "3.12.3"
  }
 },
 "nbformat": 4,
 "nbformat_minor": 5
}
