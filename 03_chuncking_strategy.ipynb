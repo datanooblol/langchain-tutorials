{
 "cells": [
  {
   "cell_type": "code",
   "execution_count": 29,
   "id": "198188fc-233d-409c-aa1d-118b8087b26e",
   "metadata": {},
   "outputs": [],
   "source": [
    "from package import embedding"
   ]
  },
  {
   "cell_type": "markdown",
   "id": "acb62c8e-b159-4e34-9eae-fd9317899558",
   "metadata": {},
   "source": [
    "# Chunking Startegy  \n",
    "Chunking or Splitting is really important in the RAG-LMM Chatbot.  \n",
    "The reasons are:\n",
    "- if you have the wrong chunk, some useful information will be left out, and you may not retrieve it in the retrival process\n",
    "- if you do the chunk too big, you may have a lot of noise\n",
    "- if you do the chunk too small, you may not see the big picture\n",
    "\n",
    "Hence, choose your chinking strategy wisely and try to test as much as you can.  \n",
    "Also prepare the debugging method for your application in advance, so you don't have to suffer in the production."
   ]
  },
  {
   "cell_type": "markdown",
   "id": "4c43379a-bf62-47e2-a45b-bdaf32a2ba5b",
   "metadata": {},
   "source": [
    "## Character split  \n",
    "This is just an example, please do not use it in any case."
   ]
  },
  {
   "cell_type": "code",
   "execution_count": 8,
   "id": "513fbe08-0bef-4385-8137-138ba95dfe28",
   "metadata": {},
   "outputs": [],
   "source": [
    "from langchain_text_splitters import CharacterTextSplitter\n",
    "\n",
    "chunk_size=100\n",
    "\n",
    "text_splitter = CharacterTextSplitter(\n",
    "    separator=\"\\n\\n\",\n",
    "    chunk_size=chunk_size,\n",
    "    chunk_overlap=int(chunk_size*0.1),\n",
    "    length_function=len,\n",
    "    is_separator_regex=False,\n",
    ")"
   ]
  },
  {
   "cell_type": "code",
   "execution_count": 9,
   "id": "2a5aa299-5ae3-4fff-aa91-6f205d787cff",
   "metadata": {},
   "outputs": [
    {
     "name": "stderr",
     "output_type": "stream",
     "text": [
      "Created a chunk of size 119, which is longer than the specified 100\n",
      "Created a chunk of size 101, which is longer than the specified 100\n",
      "Created a chunk of size 101, which is longer than the specified 100\n",
      "Created a chunk of size 147, which is longer than the specified 100\n"
     ]
    },
    {
     "data": {
      "text/plain": [
       "[Document(page_content='Components\\n\\nDocument loaders\\n\\nURL\\n\\nURL', metadata={'source': 'https://python.langchain.com/v0.1/docs/integrations/document_loaders/url/', 'title': 'URL | 🦜️🔗 LangChain', 'description': 'This example covers how to load HTML documents from a list of URLs into the Document format that we can use downstream.', 'language': 'en'}),\n",
       " Document(page_content='This example covers how to load HTML documents from a list of URLs into the Document format that we can use downstream.', metadata={'source': 'https://python.langchain.com/v0.1/docs/integrations/document_loaders/url/', 'title': 'URL | 🦜️🔗 LangChain', 'description': 'This example covers how to load HTML documents from a list of URLs into the Document format that we can use downstream.', 'language': 'en'}),\n",
       " Document(page_content='Unstructured URL Loader\\u200b\\n\\nYou have to install the unstructured library:\\n\\n!pip install', metadata={'source': 'https://python.langchain.com/v0.1/docs/integrations/document_loaders/url/', 'title': 'URL | 🦜️🔗 LangChain', 'description': 'This example covers how to load HTML documents from a list of URLs into the Document format that we can use downstream.', 'language': 'en'}),\n",
       " Document(page_content='U unstructured\\n\\nfrom\\n\\nlangchain_community\\n\\ndocument_loaders\\n\\nimport\\n\\nUnstructuredURLLoader', metadata={'source': 'https://python.langchain.com/v0.1/docs/integrations/document_loaders/url/', 'title': 'URL | 🦜️🔗 LangChain', 'description': 'This example covers how to load HTML documents from a list of URLs into the Document format that we can use downstream.', 'language': 'en'}),\n",
       " Document(page_content='API Reference:\\n\\nUnstructuredURLLoader\\n\\nurls', metadata={'source': 'https://python.langchain.com/v0.1/docs/integrations/document_loaders/url/', 'title': 'URL | 🦜️🔗 LangChain', 'description': 'This example covers how to load HTML documents from a list of URLs into the Document format that we can use downstream.', 'language': 'en'}),\n",
       " Document(page_content='\"https://www.understandingwar.org/backgrounder/russian-offensive-campaign-assessment-february-8-2023\"', metadata={'source': 'https://python.langchain.com/v0.1/docs/integrations/document_loaders/url/', 'title': 'URL | 🦜️🔗 LangChain', 'description': 'This example covers how to load HTML documents from a list of URLs into the Document format that we can use downstream.', 'language': 'en'}),\n",
       " Document(page_content='\"https://www.understandingwar.org/backgrounder/russian-offensive-campaign-assessment-february-9-2023\"', metadata={'source': 'https://python.langchain.com/v0.1/docs/integrations/document_loaders/url/', 'title': 'URL | 🦜️🔗 LangChain', 'description': 'This example covers how to load HTML documents from a list of URLs into the Document format that we can use downstream.', 'language': 'en'}),\n",
       " Document(page_content='Pass in ssl_verify=False with headers=headers to get past ssl_verification error.\\n\\nloader', metadata={'source': 'https://python.langchain.com/v0.1/docs/integrations/document_loaders/url/', 'title': 'URL | 🦜️🔗 LangChain', 'description': 'This example covers how to load HTML documents from a list of URLs into the Document format that we can use downstream.', 'language': 'en'}),\n",
       " Document(page_content='loader\\n\\nUnstructuredURLLoader\\n\\nurls\\n\\nurls\\n\\ndata\\n\\nloader\\n\\nload\\n\\nSelenium URL Loader\\u200b', metadata={'source': 'https://python.langchain.com/v0.1/docs/integrations/document_loaders/url/', 'title': 'URL | 🦜️🔗 LangChain', 'description': 'This example covers how to load HTML documents from a list of URLs into the Document format that we can use downstream.', 'language': 'en'}),\n",
       " Document(page_content='This covers how to load HTML documents from a list of URLs using the SeleniumURLLoader.', metadata={'source': 'https://python.langchain.com/v0.1/docs/integrations/document_loaders/url/', 'title': 'URL | 🦜️🔗 LangChain', 'description': 'This example covers how to load HTML documents from a list of URLs into the Document format that we can use downstream.', 'language': 'en'}),\n",
       " Document(page_content='Using Selenium allows us to load pages that require JavaScript to render.', metadata={'source': 'https://python.langchain.com/v0.1/docs/integrations/document_loaders/url/', 'title': 'URL | 🦜️🔗 LangChain', 'description': 'This example covers how to load HTML documents from a list of URLs into the Document format that we can use downstream.', 'language': 'en'}),\n",
       " Document(page_content='To use the SeleniumURLLoader, you have to install selenium and unstructured.\\n\\n!pip install', metadata={'source': 'https://python.langchain.com/v0.1/docs/integrations/document_loaders/url/', 'title': 'URL | 🦜️🔗 LangChain', 'description': 'This example covers how to load HTML documents from a list of URLs into the Document format that we can use downstream.', 'language': 'en'}),\n",
       " Document(page_content='U selenium unstructured\\n\\nfrom\\n\\nlangchain_community\\n\\ndocument_loaders\\n\\nimport\\n\\nSeleniumURLLoader', metadata={'source': 'https://python.langchain.com/v0.1/docs/integrations/document_loaders/url/', 'title': 'URL | 🦜️🔗 LangChain', 'description': 'This example covers how to load HTML documents from a list of URLs into the Document format that we can use downstream.', 'language': 'en'}),\n",
       " Document(page_content='API Reference:\\n\\nSeleniumURLLoader\\n\\nurls\\n\\n\"https://www.youtube.com/watch?v=dQw4w9WgXcQ\"', metadata={'source': 'https://python.langchain.com/v0.1/docs/integrations/document_loaders/url/', 'title': 'URL | 🦜️🔗 LangChain', 'description': 'This example covers how to load HTML documents from a list of URLs into the Document format that we can use downstream.', 'language': 'en'}),\n",
       " Document(page_content='\"https://goo.gl/maps/NDSHwePEyaHMFGwh8\"\\n\\nloader\\n\\nSeleniumURLLoader\\n\\nurls\\n\\nurls\\n\\ndata\\n\\nloader\\n\\nload', metadata={'source': 'https://python.langchain.com/v0.1/docs/integrations/document_loaders/url/', 'title': 'URL | 🦜️🔗 LangChain', 'description': 'This example covers how to load HTML documents from a list of URLs into the Document format that we can use downstream.', 'language': 'en'}),\n",
       " Document(page_content='load\\n\\nPlaywright URL Loader\\u200b', metadata={'source': 'https://python.langchain.com/v0.1/docs/integrations/document_loaders/url/', 'title': 'URL | 🦜️🔗 LangChain', 'description': 'This example covers how to load HTML documents from a list of URLs into the Document format that we can use downstream.', 'language': 'en'}),\n",
       " Document(page_content='This covers how to load HTML documents from a list of URLs using the PlaywrightURLLoader.', metadata={'source': 'https://python.langchain.com/v0.1/docs/integrations/document_loaders/url/', 'title': 'URL | 🦜️🔗 LangChain', 'description': 'This example covers how to load HTML documents from a list of URLs into the Document format that we can use downstream.', 'language': 'en'}),\n",
       " Document(page_content='Playwright enables reliable end-to-end testing for modern web apps.', metadata={'source': 'https://python.langchain.com/v0.1/docs/integrations/document_loaders/url/', 'title': 'URL | 🦜️🔗 LangChain', 'description': 'This example covers how to load HTML documents from a list of URLs into the Document format that we can use downstream.', 'language': 'en'}),\n",
       " Document(page_content='As in the Selenium case, Playwright allows us to load and render the JavaScript pages.', metadata={'source': 'https://python.langchain.com/v0.1/docs/integrations/document_loaders/url/', 'title': 'URL | 🦜️🔗 LangChain', 'description': 'This example covers how to load HTML documents from a list of URLs into the Document format that we can use downstream.', 'language': 'en'}),\n",
       " Document(page_content='To use the PlaywrightURLLoader, you have to install playwright and unstructured. Additionally, you have to install the Playwright Chromium browser:', metadata={'source': 'https://python.langchain.com/v0.1/docs/integrations/document_loaders/url/', 'title': 'URL | 🦜️🔗 LangChain', 'description': 'This example covers how to load HTML documents from a list of URLs into the Document format that we can use downstream.', 'language': 'en'}),\n",
       " Document(page_content='!pip install\\n\\nU playwright unstructured\\n\\n!playwright install\\n\\nfrom\\n\\nlangchain_community', metadata={'source': 'https://python.langchain.com/v0.1/docs/integrations/document_loaders/url/', 'title': 'URL | 🦜️🔗 LangChain', 'description': 'This example covers how to load HTML documents from a list of URLs into the Document format that we can use downstream.', 'language': 'en'}),\n",
       " Document(page_content='document_loaders\\n\\nimport\\n\\nPlaywrightURLLoader\\n\\nAPI Reference:\\n\\nPlaywrightURLLoader\\n\\nurls', metadata={'source': 'https://python.langchain.com/v0.1/docs/integrations/document_loaders/url/', 'title': 'URL | 🦜️🔗 LangChain', 'description': 'This example covers how to load HTML documents from a list of URLs into the Document format that we can use downstream.', 'language': 'en'}),\n",
       " Document(page_content='urls\\n\\n\"https://www.youtube.com/watch?v=dQw4w9WgXcQ\"\\n\\n\"https://goo.gl/maps/NDSHwePEyaHMFGwh8\"\\n\\nloader', metadata={'source': 'https://python.langchain.com/v0.1/docs/integrations/document_loaders/url/', 'title': 'URL | 🦜️🔗 LangChain', 'description': 'This example covers how to load HTML documents from a list of URLs into the Document format that we can use downstream.', 'language': 'en'}),\n",
       " Document(page_content='loader\\n\\nPlaywrightURLLoader\\n\\nurls\\n\\nurls\\n\\nremove_selectors\\n\\n\"header\"\\n\\n\"footer\"\\n\\ndata\\n\\nloader\\n\\nload', metadata={'source': 'https://python.langchain.com/v0.1/docs/integrations/document_loaders/url/', 'title': 'URL | 🦜️🔗 LangChain', 'description': 'This example covers how to load HTML documents from a list of URLs into the Document format that we can use downstream.', 'language': 'en'}),\n",
       " Document(page_content='load\\n\\nHelp us out by providing feedback on this documentation page:\\n\\nPreviousUpstage\\n\\nNextVsdx', metadata={'source': 'https://python.langchain.com/v0.1/docs/integrations/document_loaders/url/', 'title': 'URL | 🦜️🔗 LangChain', 'description': 'This example covers how to load HTML documents from a list of URLs into the Document format that we can use downstream.', 'language': 'en'})]"
      ]
     },
     "execution_count": 9,
     "metadata": {},
     "output_type": "execute_result"
    }
   ],
   "source": [
    "%%time\n",
    "\n",
    "from langchain_community.document_loaders import SeleniumURLLoader\n",
    "\n",
    "urls = [\n",
    "    \"https://python.langchain.com/v0.1/docs/integrations/document_loaders/url/\",\n",
    "]\n",
    "\n",
    "loader = SeleniumURLLoader(urls=urls)\n",
    "docs = loader.load_and_split(text_splitter)\n",
    "docs"
   ]
  },
  {
   "cell_type": "code",
   "execution_count": 10,
   "id": "b14c8d16-d117-4bbb-9c0c-eb0fc37b700e",
   "metadata": {},
   "outputs": [
    {
     "data": {
      "text/plain": [
       "25"
      ]
     },
     "execution_count": 10,
     "metadata": {},
     "output_type": "execute_result"
    }
   ],
   "source": [
    "len(docs)"
   ]
  },
  {
   "cell_type": "code",
   "execution_count": 15,
   "id": "7f04f8e5-5b2e-420b-a17e-54b54cac776a",
   "metadata": {},
   "outputs": [
    {
     "name": "stdout",
     "output_type": "stream",
     "text": [
      "Components\n",
      "\n",
      "Document loaders\n",
      "\n",
      "URL\n",
      "\n",
      "URL\n"
     ]
    }
   ],
   "source": [
    "print(docs[0].page_content)"
   ]
  },
  {
   "cell_type": "code",
   "execution_count": 19,
   "id": "f7e1b621-d90f-4f75-a764-3da2bf9db072",
   "metadata": {},
   "outputs": [
    {
     "data": {
      "text/plain": [
       "'38, 119, 85, 90, 43, 101, 101, 89, 83, 87, 73, 90, 95, 86, 98, 28, 89, 67, 86, 147, 87, 88, 100, 97, 94'"
      ]
     },
     "execution_count": 19,
     "metadata": {},
     "output_type": "execute_result"
    }
   ],
   "source": [
    "doc_len = []\n",
    "for doc in docs:\n",
    "    doc_len.append(len(doc.page_content))\n",
    "\n",
    "\", \".join([str(doc) for doc in doc_len])"
   ]
  },
  {
   "cell_type": "markdown",
   "id": "67a48a56-222d-4cdc-b6cb-fe9e1f6e0354",
   "metadata": {},
   "source": [
    "## Recursive split  \n",
    "It's a to-go method when you need to a quick test."
   ]
  },
  {
   "cell_type": "code",
   "execution_count": 21,
   "id": "761fb343-614e-464e-a821-35b15b23e2c3",
   "metadata": {},
   "outputs": [],
   "source": [
    "from langchain_text_splitters import RecursiveCharacterTextSplitter"
   ]
  },
  {
   "cell_type": "code",
   "execution_count": 22,
   "id": "1ad4cf86-a25e-4b36-b838-da0dfda7abf8",
   "metadata": {},
   "outputs": [],
   "source": [
    "chunk_size = 100\n",
    "\n",
    "text_splitter = RecursiveCharacterTextSplitter(\n",
    "    # Set a really small chunk size, just to show.\n",
    "    chunk_size=chunk_size,\n",
    "    chunk_overlap=int(chunk_size*0.1),\n",
    "    length_function=len,\n",
    "    is_separator_regex=False,\n",
    ")"
   ]
  },
  {
   "cell_type": "code",
   "execution_count": 23,
   "id": "bc386103-6851-413e-b9c9-a650688b5a37",
   "metadata": {},
   "outputs": [
    {
     "data": {
      "text/plain": [
       "[Document(page_content='Components\\n\\nDocument loaders\\n\\nURL\\n\\nURL', metadata={'source': 'https://python.langchain.com/v0.1/docs/integrations/document_loaders/url/', 'title': 'URL | 🦜️🔗 LangChain', 'description': 'This example covers how to load HTML documents from a list of URLs into the Document format that we can use downstream.', 'language': 'en'}),\n",
       " Document(page_content='This example covers how to load HTML documents from a list of URLs into the Document format that we', metadata={'source': 'https://python.langchain.com/v0.1/docs/integrations/document_loaders/url/', 'title': 'URL | 🦜️🔗 LangChain', 'description': 'This example covers how to load HTML documents from a list of URLs into the Document format that we can use downstream.', 'language': 'en'}),\n",
       " Document(page_content='that we can use downstream.', metadata={'source': 'https://python.langchain.com/v0.1/docs/integrations/document_loaders/url/', 'title': 'URL | 🦜️🔗 LangChain', 'description': 'This example covers how to load HTML documents from a list of URLs into the Document format that we can use downstream.', 'language': 'en'}),\n",
       " Document(page_content='Unstructured URL Loader\\u200b\\n\\nYou have to install the unstructured library:\\n\\n!pip install', metadata={'source': 'https://python.langchain.com/v0.1/docs/integrations/document_loaders/url/', 'title': 'URL | 🦜️🔗 LangChain', 'description': 'This example covers how to load HTML documents from a list of URLs into the Document format that we can use downstream.', 'language': 'en'}),\n",
       " Document(page_content='U unstructured\\n\\nfrom\\n\\nlangchain_community\\n\\ndocument_loaders\\n\\nimport\\n\\nUnstructuredURLLoader', metadata={'source': 'https://python.langchain.com/v0.1/docs/integrations/document_loaders/url/', 'title': 'URL | 🦜️🔗 LangChain', 'description': 'This example covers how to load HTML documents from a list of URLs into the Document format that we can use downstream.', 'language': 'en'}),\n",
       " Document(page_content='API Reference:\\n\\nUnstructuredURLLoader\\n\\nurls', metadata={'source': 'https://python.langchain.com/v0.1/docs/integrations/document_loaders/url/', 'title': 'URL | 🦜️🔗 LangChain', 'description': 'This example covers how to load HTML documents from a list of URLs into the Document format that we can use downstream.', 'language': 'en'}),\n",
       " Document(page_content='\"https://www.understandingwar.org/backgrounder/russian-offensive-campaign-assessment-february-8-202', metadata={'source': 'https://python.langchain.com/v0.1/docs/integrations/document_loaders/url/', 'title': 'URL | 🦜️🔗 LangChain', 'description': 'This example covers how to load HTML documents from a list of URLs into the Document format that we can use downstream.', 'language': 'en'}),\n",
       " Document(page_content='uary-8-2023\"', metadata={'source': 'https://python.langchain.com/v0.1/docs/integrations/document_loaders/url/', 'title': 'URL | 🦜️🔗 LangChain', 'description': 'This example covers how to load HTML documents from a list of URLs into the Document format that we can use downstream.', 'language': 'en'}),\n",
       " Document(page_content='\"https://www.understandingwar.org/backgrounder/russian-offensive-campaign-assessment-february-9-202', metadata={'source': 'https://python.langchain.com/v0.1/docs/integrations/document_loaders/url/', 'title': 'URL | 🦜️🔗 LangChain', 'description': 'This example covers how to load HTML documents from a list of URLs into the Document format that we can use downstream.', 'language': 'en'}),\n",
       " Document(page_content='uary-9-2023\"', metadata={'source': 'https://python.langchain.com/v0.1/docs/integrations/document_loaders/url/', 'title': 'URL | 🦜️🔗 LangChain', 'description': 'This example covers how to load HTML documents from a list of URLs into the Document format that we can use downstream.', 'language': 'en'}),\n",
       " Document(page_content='Pass in ssl_verify=False with headers=headers to get past ssl_verification error.\\n\\nloader', metadata={'source': 'https://python.langchain.com/v0.1/docs/integrations/document_loaders/url/', 'title': 'URL | 🦜️🔗 LangChain', 'description': 'This example covers how to load HTML documents from a list of URLs into the Document format that we can use downstream.', 'language': 'en'}),\n",
       " Document(page_content='loader\\n\\nUnstructuredURLLoader\\n\\nurls\\n\\nurls\\n\\ndata\\n\\nloader\\n\\nload\\n\\nSelenium URL Loader\\u200b', metadata={'source': 'https://python.langchain.com/v0.1/docs/integrations/document_loaders/url/', 'title': 'URL | 🦜️🔗 LangChain', 'description': 'This example covers how to load HTML documents from a list of URLs into the Document format that we can use downstream.', 'language': 'en'}),\n",
       " Document(page_content='This covers how to load HTML documents from a list of URLs using the SeleniumURLLoader.', metadata={'source': 'https://python.langchain.com/v0.1/docs/integrations/document_loaders/url/', 'title': 'URL | 🦜️🔗 LangChain', 'description': 'This example covers how to load HTML documents from a list of URLs into the Document format that we can use downstream.', 'language': 'en'}),\n",
       " Document(page_content='Using Selenium allows us to load pages that require JavaScript to render.', metadata={'source': 'https://python.langchain.com/v0.1/docs/integrations/document_loaders/url/', 'title': 'URL | 🦜️🔗 LangChain', 'description': 'This example covers how to load HTML documents from a list of URLs into the Document format that we can use downstream.', 'language': 'en'}),\n",
       " Document(page_content='To use the SeleniumURLLoader, you have to install selenium and unstructured.\\n\\n!pip install', metadata={'source': 'https://python.langchain.com/v0.1/docs/integrations/document_loaders/url/', 'title': 'URL | 🦜️🔗 LangChain', 'description': 'This example covers how to load HTML documents from a list of URLs into the Document format that we can use downstream.', 'language': 'en'}),\n",
       " Document(page_content='U selenium unstructured\\n\\nfrom\\n\\nlangchain_community\\n\\ndocument_loaders\\n\\nimport\\n\\nSeleniumURLLoader', metadata={'source': 'https://python.langchain.com/v0.1/docs/integrations/document_loaders/url/', 'title': 'URL | 🦜️🔗 LangChain', 'description': 'This example covers how to load HTML documents from a list of URLs into the Document format that we can use downstream.', 'language': 'en'}),\n",
       " Document(page_content='API Reference:\\n\\nSeleniumURLLoader\\n\\nurls\\n\\n\"https://www.youtube.com/watch?v=dQw4w9WgXcQ\"', metadata={'source': 'https://python.langchain.com/v0.1/docs/integrations/document_loaders/url/', 'title': 'URL | 🦜️🔗 LangChain', 'description': 'This example covers how to load HTML documents from a list of URLs into the Document format that we can use downstream.', 'language': 'en'}),\n",
       " Document(page_content='\"https://goo.gl/maps/NDSHwePEyaHMFGwh8\"\\n\\nloader\\n\\nSeleniumURLLoader\\n\\nurls\\n\\nurls\\n\\ndata\\n\\nloader\\n\\nload', metadata={'source': 'https://python.langchain.com/v0.1/docs/integrations/document_loaders/url/', 'title': 'URL | 🦜️🔗 LangChain', 'description': 'This example covers how to load HTML documents from a list of URLs into the Document format that we can use downstream.', 'language': 'en'}),\n",
       " Document(page_content='load\\n\\nPlaywright URL Loader\\u200b', metadata={'source': 'https://python.langchain.com/v0.1/docs/integrations/document_loaders/url/', 'title': 'URL | 🦜️🔗 LangChain', 'description': 'This example covers how to load HTML documents from a list of URLs into the Document format that we can use downstream.', 'language': 'en'}),\n",
       " Document(page_content='This covers how to load HTML documents from a list of URLs using the PlaywrightURLLoader.', metadata={'source': 'https://python.langchain.com/v0.1/docs/integrations/document_loaders/url/', 'title': 'URL | 🦜️🔗 LangChain', 'description': 'This example covers how to load HTML documents from a list of URLs into the Document format that we can use downstream.', 'language': 'en'}),\n",
       " Document(page_content='Playwright enables reliable end-to-end testing for modern web apps.', metadata={'source': 'https://python.langchain.com/v0.1/docs/integrations/document_loaders/url/', 'title': 'URL | 🦜️🔗 LangChain', 'description': 'This example covers how to load HTML documents from a list of URLs into the Document format that we can use downstream.', 'language': 'en'}),\n",
       " Document(page_content='As in the Selenium case, Playwright allows us to load and render the JavaScript pages.', metadata={'source': 'https://python.langchain.com/v0.1/docs/integrations/document_loaders/url/', 'title': 'URL | 🦜️🔗 LangChain', 'description': 'This example covers how to load HTML documents from a list of URLs into the Document format that we can use downstream.', 'language': 'en'}),\n",
       " Document(page_content='To use the PlaywrightURLLoader, you have to install playwright and unstructured. Additionally, you', metadata={'source': 'https://python.langchain.com/v0.1/docs/integrations/document_loaders/url/', 'title': 'URL | 🦜️🔗 LangChain', 'description': 'This example covers how to load HTML documents from a list of URLs into the Document format that we can use downstream.', 'language': 'en'}),\n",
       " Document(page_content='you have to install the Playwright Chromium browser:', metadata={'source': 'https://python.langchain.com/v0.1/docs/integrations/document_loaders/url/', 'title': 'URL | 🦜️🔗 LangChain', 'description': 'This example covers how to load HTML documents from a list of URLs into the Document format that we can use downstream.', 'language': 'en'}),\n",
       " Document(page_content='!pip install\\n\\nU playwright unstructured\\n\\n!playwright install\\n\\nfrom\\n\\nlangchain_community', metadata={'source': 'https://python.langchain.com/v0.1/docs/integrations/document_loaders/url/', 'title': 'URL | 🦜️🔗 LangChain', 'description': 'This example covers how to load HTML documents from a list of URLs into the Document format that we can use downstream.', 'language': 'en'}),\n",
       " Document(page_content='document_loaders\\n\\nimport\\n\\nPlaywrightURLLoader\\n\\nAPI Reference:\\n\\nPlaywrightURLLoader\\n\\nurls', metadata={'source': 'https://python.langchain.com/v0.1/docs/integrations/document_loaders/url/', 'title': 'URL | 🦜️🔗 LangChain', 'description': 'This example covers how to load HTML documents from a list of URLs into the Document format that we can use downstream.', 'language': 'en'}),\n",
       " Document(page_content='urls\\n\\n\"https://www.youtube.com/watch?v=dQw4w9WgXcQ\"\\n\\n\"https://goo.gl/maps/NDSHwePEyaHMFGwh8\"', metadata={'source': 'https://python.langchain.com/v0.1/docs/integrations/document_loaders/url/', 'title': 'URL | 🦜️🔗 LangChain', 'description': 'This example covers how to load HTML documents from a list of URLs into the Document format that we can use downstream.', 'language': 'en'}),\n",
       " Document(page_content='loader\\n\\nPlaywrightURLLoader\\n\\nurls\\n\\nurls\\n\\nremove_selectors\\n\\n\"header\"\\n\\n\"footer\"\\n\\ndata\\n\\nloader\\n\\nload', metadata={'source': 'https://python.langchain.com/v0.1/docs/integrations/document_loaders/url/', 'title': 'URL | 🦜️🔗 LangChain', 'description': 'This example covers how to load HTML documents from a list of URLs into the Document format that we can use downstream.', 'language': 'en'}),\n",
       " Document(page_content='load\\n\\nHelp us out by providing feedback on this documentation page:\\n\\nPreviousUpstage\\n\\nNextVsdx', metadata={'source': 'https://python.langchain.com/v0.1/docs/integrations/document_loaders/url/', 'title': 'URL | 🦜️🔗 LangChain', 'description': 'This example covers how to load HTML documents from a list of URLs into the Document format that we can use downstream.', 'language': 'en'})]"
      ]
     },
     "execution_count": 23,
     "metadata": {},
     "output_type": "execute_result"
    }
   ],
   "source": [
    "%%time\n",
    "\n",
    "loader = SeleniumURLLoader(urls=urls)\n",
    "docs = loader.load_and_split(text_splitter)\n",
    "docs"
   ]
  },
  {
   "cell_type": "code",
   "execution_count": 24,
   "id": "a5cf0b40-11c6-4500-8ce3-2a438ba8bb51",
   "metadata": {},
   "outputs": [
    {
     "data": {
      "text/plain": [
       "29"
      ]
     },
     "execution_count": 24,
     "metadata": {},
     "output_type": "execute_result"
    }
   ],
   "source": [
    "len(docs)"
   ]
  },
  {
   "cell_type": "code",
   "execution_count": 25,
   "id": "ef5f5259-e228-4cf9-8489-9f5dad34ffe9",
   "metadata": {},
   "outputs": [
    {
     "name": "stdout",
     "output_type": "stream",
     "text": [
      "Components\n",
      "\n",
      "Document loaders\n",
      "\n",
      "URL\n",
      "\n",
      "URL\n"
     ]
    }
   ],
   "source": [
    "print(docs[0].page_content)"
   ]
  },
  {
   "cell_type": "code",
   "execution_count": 26,
   "id": "f3aa5878-7c1a-4958-ad08-31e105f3e781",
   "metadata": {},
   "outputs": [
    {
     "data": {
      "text/plain": [
       "'38, 99, 27, 85, 90, 43, 99, 12, 99, 12, 89, 83, 87, 73, 90, 95, 86, 98, 28, 89, 67, 86, 98, 52, 87, 88, 92, 97, 94'"
      ]
     },
     "execution_count": 26,
     "metadata": {},
     "output_type": "execute_result"
    }
   ],
   "source": [
    "doc_len = []\n",
    "for doc in docs:\n",
    "    doc_len.append(len(doc.page_content))\n",
    "\n",
    "\", \".join([str(doc) for doc in doc_len])"
   ]
  },
  {
   "cell_type": "markdown",
   "id": "1222097d-ab9c-4e77-8cba-8fadc8571dfc",
   "metadata": {},
   "source": [
    "## Semantic split  \n",
    "The longest time to split, but the best strategy for now."
   ]
  },
  {
   "cell_type": "code",
   "execution_count": 27,
   "id": "e9e94d15-4eaa-4304-905c-9f0aa861ca6d",
   "metadata": {},
   "outputs": [],
   "source": [
    "from langchain_experimental.text_splitter import SemanticChunker"
   ]
  },
  {
   "cell_type": "code",
   "execution_count": 30,
   "id": "2adcd996-bc17-4c8d-baf5-3a4aac9860bf",
   "metadata": {},
   "outputs": [],
   "source": [
    "text_splitter = SemanticChunker(embedding)"
   ]
  },
  {
   "cell_type": "code",
   "execution_count": 35,
   "id": "2f147b9d-9495-4bde-8a89-d1ed8ef3132b",
   "metadata": {},
   "outputs": [
    {
     "name": "stdout",
     "output_type": "stream",
     "text": [
      "CPU times: total: 62.5 ms\n",
      "Wall time: 32.4 s\n"
     ]
    },
    {
     "data": {
      "text/plain": [
       "[Document(page_content='\\n\\nComponents\\n\\nDocument loaders\\n\\nURL\\n\\nURL\\n\\nThis example covers how to load HTML documents from a list of URLs into the Document format that we can use downstream. Unstructured URL Loader\\u200b\\n\\nYou have to install the unstructured library:\\n\\n!pip install\\n\\nU unstructured\\n\\nfrom\\n\\nlangchain_community\\n\\ndocument_loaders\\n\\nimport\\n\\nUnstructuredURLLoader\\n\\nAPI Reference:\\n\\nUnstructuredURLLoader\\n\\nurls\\n\\n\"https://www.understandingwar.org/backgrounder/russian-offensive-campaign-assessment-february-8-2023\"\\n\\n\"https://www.understandingwar.org/backgrounder/russian-offensive-campaign-assessment-february-9-2023\"\\n\\nPass in ssl_verify=False with headers=headers to get past ssl_verification error. loader\\n\\nUnstructuredURLLoader\\n\\nurls\\n\\nurls\\n\\ndata\\n\\nloader\\n\\nload\\n\\nSelenium URL Loader\\u200b\\n\\nThis covers how to load HTML documents from a list of URLs using the SeleniumURLLoader. Using Selenium allows us to load pages that require JavaScript to render. To use the SeleniumURLLoader, you have to install selenium and unstructured. !pip install\\n\\nU selenium unstructured\\n\\nfrom\\n\\nlangchain_community\\n\\ndocument_loaders\\n\\nimport\\n\\nSeleniumURLLoader\\n\\nAPI Reference:\\n\\nSeleniumURLLoader\\n\\nurls\\n\\n\"https://www.youtube.com/watch?v=dQw4w9WgXcQ\"\\n\\n\"https://goo.gl/maps/NDSHwePEyaHMFGwh8\"\\n\\nloader\\n\\nSeleniumURLLoader\\n\\nurls\\n\\nurls\\n\\ndata\\n\\nloader\\n\\nload\\n\\nPlaywright URL Loader\\u200b\\n\\nThis covers how to load HTML documents from a list of URLs using the PlaywrightURLLoader. Playwright enables reliable end-to-end testing for modern web apps. As in the Selenium case, Playwright allows us to load and render the JavaScript pages.', metadata={'source': 'https://python.langchain.com/v0.1/docs/integrations/document_loaders/url/', 'title': 'URL | 🦜️🔗 LangChain', 'description': 'This example covers how to load HTML documents from a list of URLs into the Document format that we can use downstream.', 'language': 'en'}),\n",
       " Document(page_content='To use the PlaywrightURLLoader, you have to install playwright and unstructured. Additionally, you have to install the Playwright Chromium browser:\\n\\n!pip install\\n\\nU playwright unstructured\\n\\n!playwright install\\n\\nfrom\\n\\nlangchain_community\\n\\ndocument_loaders\\n\\nimport\\n\\nPlaywrightURLLoader\\n\\nAPI Reference:\\n\\nPlaywrightURLLoader\\n\\nurls\\n\\n\"https://www.youtube.com/watch?v=dQw4w9WgXcQ\"\\n\\n\"https://goo.gl/maps/NDSHwePEyaHMFGwh8\"\\n\\nloader\\n\\nPlaywrightURLLoader\\n\\nurls\\n\\nurls\\n\\nremove_selectors\\n\\n\"header\"\\n\\n\"footer\"\\n\\ndata\\n\\nloader\\n\\nload\\n\\nHelp us out by providing feedback on this documentation page:\\n\\nPreviousUpstage\\n\\nNextVsdx', metadata={'source': 'https://python.langchain.com/v0.1/docs/integrations/document_loaders/url/', 'title': 'URL | 🦜️🔗 LangChain', 'description': 'This example covers how to load HTML documents from a list of URLs into the Document format that we can use downstream.', 'language': 'en'})]"
      ]
     },
     "execution_count": 35,
     "metadata": {},
     "output_type": "execute_result"
    }
   ],
   "source": [
    "%%time\n",
    "loader = SeleniumURLLoader(urls=urls)\n",
    "docs = loader.load_and_split(text_splitter)\n",
    "docs"
   ]
  },
  {
   "cell_type": "code",
   "execution_count": 32,
   "id": "5220dac9-2883-47c5-8244-7c9591589e48",
   "metadata": {},
   "outputs": [
    {
     "data": {
      "text/plain": [
       "2"
      ]
     },
     "execution_count": 32,
     "metadata": {},
     "output_type": "execute_result"
    }
   ],
   "source": [
    "len(docs)"
   ]
  },
  {
   "cell_type": "code",
   "execution_count": 33,
   "id": "2f735830-6718-4ff3-8151-cdda2b7a662c",
   "metadata": {},
   "outputs": [
    {
     "name": "stdout",
     "output_type": "stream",
     "text": [
      "\n",
      "\n",
      "Components\n",
      "\n",
      "Document loaders\n",
      "\n",
      "URL\n",
      "\n",
      "URL\n",
      "\n",
      "This example covers how to load HTML documents from a list of URLs into the Document format that we can use downstream. Unstructured URL Loader​\n",
      "\n",
      "You have to install the unstructured library:\n",
      "\n",
      "!pip install\n",
      "\n",
      "U unstructured\n",
      "\n",
      "from\n",
      "\n",
      "langchain_community\n",
      "\n",
      "document_loaders\n",
      "\n",
      "import\n",
      "\n",
      "UnstructuredURLLoader\n",
      "\n",
      "API Reference:\n",
      "\n",
      "UnstructuredURLLoader\n",
      "\n",
      "urls\n",
      "\n",
      "\"https://www.understandingwar.org/backgrounder/russian-offensive-campaign-assessment-february-8-2023\"\n",
      "\n",
      "\"https://www.understandingwar.org/backgrounder/russian-offensive-campaign-assessment-february-9-2023\"\n",
      "\n",
      "Pass in ssl_verify=False with headers=headers to get past ssl_verification error. loader\n",
      "\n",
      "UnstructuredURLLoader\n",
      "\n",
      "urls\n",
      "\n",
      "urls\n",
      "\n",
      "data\n",
      "\n",
      "loader\n",
      "\n",
      "load\n",
      "\n",
      "Selenium URL Loader​\n",
      "\n",
      "This covers how to load HTML documents from a list of URLs using the SeleniumURLLoader. Using Selenium allows us to load pages that require JavaScript to render. To use the SeleniumURLLoader, you have to install selenium and unstructured. !pip install\n",
      "\n",
      "U selenium unstructured\n",
      "\n",
      "from\n",
      "\n",
      "langchain_community\n",
      "\n",
      "document_loaders\n",
      "\n",
      "import\n",
      "\n",
      "SeleniumURLLoader\n",
      "\n",
      "API Reference:\n",
      "\n",
      "SeleniumURLLoader\n",
      "\n",
      "urls\n",
      "\n",
      "\"https://www.youtube.com/watch?v=dQw4w9WgXcQ\"\n",
      "\n",
      "\"https://goo.gl/maps/NDSHwePEyaHMFGwh8\"\n",
      "\n",
      "loader\n",
      "\n",
      "SeleniumURLLoader\n",
      "\n",
      "urls\n",
      "\n",
      "urls\n",
      "\n",
      "data\n",
      "\n",
      "loader\n",
      "\n",
      "load\n",
      "\n",
      "Playwright URL Loader​\n",
      "\n",
      "This covers how to load HTML documents from a list of URLs using the PlaywrightURLLoader. Playwright enables reliable end-to-end testing for modern web apps. As in the Selenium case, Playwright allows us to load and render the JavaScript pages.\n"
     ]
    }
   ],
   "source": [
    "print(docs[0].page_content)"
   ]
  },
  {
   "cell_type": "code",
   "execution_count": 34,
   "id": "214f3b7d-b6c8-4dde-a23b-02f556b820b6",
   "metadata": {},
   "outputs": [
    {
     "data": {
      "text/plain": [
       "'1565, 603'"
      ]
     },
     "execution_count": 34,
     "metadata": {},
     "output_type": "execute_result"
    }
   ],
   "source": [
    "doc_len = []\n",
    "for doc in docs:\n",
    "    doc_len.append(len(doc.page_content))\n",
    "\n",
    "\", \".join([str(doc) for doc in doc_len])"
   ]
  },
  {
   "cell_type": "markdown",
   "id": "619eafad-b2e3-48ab-9d9a-5407b36f970a",
   "metadata": {},
   "source": [
    "# Play Ground  \n",
    "[Look at this reference on LangChain](https://python.langchain.com/v0.1/docs/modules/data_connection/document_transformers/)"
   ]
  },
  {
   "cell_type": "code",
   "execution_count": null,
   "id": "4b747344-508b-46bc-9d46-e9cf0b34c117",
   "metadata": {},
   "outputs": [],
   "source": []
  }
 ],
 "metadata": {
  "kernelspec": {
   "display_name": "Python 3 (ipykernel)",
   "language": "python",
   "name": "python3"
  },
  "language_info": {
   "codemirror_mode": {
    "name": "ipython",
    "version": 3
   },
   "file_extension": ".py",
   "mimetype": "text/x-python",
   "name": "python",
   "nbconvert_exporter": "python",
   "pygments_lexer": "ipython3",
   "version": "3.12.3"
  }
 },
 "nbformat": 4,
 "nbformat_minor": 5
}
