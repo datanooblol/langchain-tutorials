{
 "cells": [
  {
   "cell_type": "markdown",
   "id": "cb5993ae-3642-4ecc-a0c4-b95bd548dcbf",
   "metadata": {},
   "source": [
    "# Initialize Model"
   ]
  },
  {
   "cell_type": "code",
   "execution_count": 1,
   "id": "90e1b05b-942a-436f-befb-bf14484ecb37",
   "metadata": {},
   "outputs": [],
   "source": [
    "from package import embedding, llm, agent_llm, url, model\n",
    "from package.utils import format_docs, prompt_2_str"
   ]
  },
  {
   "cell_type": "markdown",
   "id": "4141a2b2-3113-4388-9ddc-02731600f0b6",
   "metadata": {},
   "source": [
    "# Import Lib"
   ]
  },
  {
   "cell_type": "code",
   "execution_count": 2,
   "id": "3b962fda-5113-45c8-b98e-d8b687685fda",
   "metadata": {},
   "outputs": [],
   "source": [
    "import json"
   ]
  },
  {
   "cell_type": "code",
   "execution_count": 3,
   "id": "5648fbcf-2f97-4156-bde6-121e3af937bf",
   "metadata": {},
   "outputs": [],
   "source": [
    "from operator import itemgetter"
   ]
  },
  {
   "cell_type": "code",
   "execution_count": 4,
   "id": "ca806fc2-a40f-4001-af5b-394c4837f411",
   "metadata": {},
   "outputs": [],
   "source": [
    "from langchain.agents import load_tools, initialize_agent\n",
    "from langchain.tools import BaseTool\n",
    "import yfinance as yahoo_finance\n",
    "from langchain_core.prompts import PromptTemplate\n",
    "from langchain_core.output_parsers import JsonOutputParser"
   ]
  },
  {
   "cell_type": "code",
   "execution_count": 5,
   "id": "ad571d19-37e3-4f3f-8908-3d1b4da1a446",
   "metadata": {},
   "outputs": [],
   "source": [
    "from langchain.output_parsers import PydanticOutputParser\n",
    "from langchain_core.pydantic_v1 import BaseModel, Field, validator\n",
    "from typing import List, Optional"
   ]
  },
  {
   "cell_type": "code",
   "execution_count": 6,
   "id": "1cad011c-3f10-4770-8744-245db9b09ead",
   "metadata": {},
   "outputs": [],
   "source": [
    "from langchain_core.tools import tool"
   ]
  },
  {
   "cell_type": "code",
   "execution_count": 7,
   "id": "1e0cd823-7f9f-4a4e-8320-70f4c3109d61",
   "metadata": {},
   "outputs": [],
   "source": [
    "import yfinance as yahoo_finance"
   ]
  },
  {
   "cell_type": "markdown",
   "id": "e6f251e8-dfe7-4d26-90f6-71596b089c18",
   "metadata": {},
   "source": [
    "# What if we don't need agents but only tools?"
   ]
  },
  {
   "cell_type": "markdown",
   "id": "8e362449-2df2-4be1-8bbb-12903e1d290a",
   "metadata": {},
   "source": [
    "## Utils"
   ]
  },
  {
   "cell_type": "code",
   "execution_count": 8,
   "id": "9150616c-41be-48ac-94c4-4ad38d628956",
   "metadata": {},
   "outputs": [],
   "source": [
    "class RouterExtractor(BaseModel):\n",
    "    \"\"\"Elements of a message.\"\"\"\n",
    "    intention:Optional[str] = Field(default=None, description=\"The intention of the message\")\n",
    "    action:Optional[str] = Field(default=None, description=\"The action of the message\")\n",
    "    summary:Optional[str] = Field(default=None, description=\"The summary of the message\")\n",
    "    message:Optional[str] = Field(default=None, description=\"The input message\")\n",
    "\n",
    "parser = PydanticOutputParser(pydantic_object=RouterExtractor)"
   ]
  },
  {
   "cell_type": "code",
   "execution_count": 9,
   "id": "78669ba2-0125-464c-905a-4da952f9dbf1",
   "metadata": {},
   "outputs": [],
   "source": [
    "prompt_template = \"\"\"\\\n",
    "<|begin_of_text|><|start_header_id|>system<|end_header_id|>\n",
    "You are an excellent agent who is always helpful in every situation.\n",
    "Your job is to answer the user_input by using the excution_result.\n",
    "Remember make the answer useful, concise and easy to understand.\n",
    "\n",
    "Here is a user_input: \\n\\n{user_input}\\n\\n\n",
    "Here is a execution_result: \\n\\n{execution_result}<|eot_id|>\n",
    "\n",
    "<|start_header_id|>excellent agent<|end_header_id|>\n",
    "\"\"\"\n",
    "prompt = PromptTemplate.from_template(prompt_template)\n",
    "\n",
    "generate_chain = prompt | llm"
   ]
  },
  {
   "cell_type": "code",
   "execution_count": 10,
   "id": "204f5874-1650-482c-9385-24cffe966d59",
   "metadata": {},
   "outputs": [],
   "source": [
    "prompt_template = \"\"\"\\\n",
    "<|begin_of_text|><|start_header_id|>system<|end_header_id|>\n",
    "You are a stock investor who knows inside out of all trade markets.\n",
    "Your job is to extract the ticker based on the user_input.\n",
    "Do not add premable or explanation. Return only the ticker name in string format\n",
    "\n",
    "Here is a user_input: \\n\\n{user_input}<|eot_id|>\n",
    "\n",
    "<|start_header_id|>stock investor<|end_header_id|>\n",
    "\"\"\"\n",
    "prompt = PromptTemplate.from_template(prompt_template)\n",
    "\n",
    "ticker_chain = prompt | llm\n",
    "\n",
    "@tool\n",
    "def stock_query(user_input:str) -> str:\n",
    "    \"\"\"get the current stock's price\"\"\"\n",
    "    ticker = ticker_chain.invoke({\"user_input\": user_input})\n",
    "    ticker = yahoo_finance.Ticker(ticker)\n",
    "    return ticker.info.get(\"currentPrice\")"
   ]
  },
  {
   "cell_type": "code",
   "execution_count": 11,
   "id": "5688c51b-a3e6-4d76-97ac-9c460a6849da",
   "metadata": {},
   "outputs": [],
   "source": [
    "@tool\n",
    "def add():\n",
    "    \"\"\"add numbers\"\"\"\n",
    "    return \"add\"\n",
    "@tool\n",
    "def minus():\n",
    "    \"\"\"minus numbers\"\"\"\n",
    "    return \"minus\""
   ]
  },
  {
   "cell_type": "code",
   "execution_count": 12,
   "id": "c5e68bdb-53f9-49a9-b8e2-815b86afd3df",
   "metadata": {},
   "outputs": [],
   "source": [
    "tools = [add, minus, stock_query]\n",
    "tool_name_n_desc = {tool.name:tool.description for tool in tools}\n",
    "tool_dict = {tool.name: tool for tool in tools}"
   ]
  },
  {
   "cell_type": "code",
   "execution_count": 13,
   "id": "ce0c270c-a266-4ce0-bd1c-e139034dd65e",
   "metadata": {},
   "outputs": [
    {
     "data": {
      "text/plain": [
       "{'add': 'add numbers',\n",
       " 'minus': 'minus numbers',\n",
       " 'stock_query': \"get the current stock's price\"}"
      ]
     },
     "execution_count": 13,
     "metadata": {},
     "output_type": "execute_result"
    }
   ],
   "source": [
    "tool_name_n_desc"
   ]
  },
  {
   "cell_type": "code",
   "execution_count": 14,
   "id": "8ca178da-a0d9-44dd-901f-6385a7a32604",
   "metadata": {},
   "outputs": [],
   "source": [
    "prompt_template = \"\"\"\\\n",
    "<|begin_of_text|><|start_header_id|>system<|end_header_id|>\n",
    "You are an excellent agent who always know which tool is best to accommplish the task.\n",
    "Your job is to use the user_input and decide which tool to use based on the tool's description in the tools.\n",
    "Remember do not add preamble or explanation.\n",
    "If you cannot find the match, use not_found.\n",
    "Here is a tool: \\n\\n{tools}\\n\\n\n",
    "Provide the answer in JSON format in which key is equal to function_name.<|eot_id|>\n",
    "\n",
    "<|start_header_id|>user<|end_header_id|>\n",
    "Here is a user_input: \\n\\n{user_input}\\n\\n <|eot_id|>\n",
    "\n",
    "<|start_header_id|>agent<|end_header_id|>\n",
    "\"\"\"\n",
    "prompt = PromptTemplate(\n",
    "    template=prompt_template,\n",
    "    input_variables=[\"user_input\"],\n",
    "    partial_variables={\"tools\": tool_name_n_desc},\n",
    ")\n",
    "router_llm = (\n",
    "    prompt\n",
    "    | prompt_2_str\n",
    "    | llm\n",
    "    | JsonOutputParser()\n",
    ")"
   ]
  },
  {
   "cell_type": "code",
   "execution_count": 15,
   "id": "6cb5ce9f-f0e7-40dd-8026-2b2586b7aea2",
   "metadata": {},
   "outputs": [
    {
     "name": "stdout",
     "output_type": "stream",
     "text": [
      "CPU times: total: 0 ns\n",
      "Wall time: 2.83 s\n"
     ]
    },
    {
     "data": {
      "text/plain": [
       "{'function_name': 'add'}"
      ]
     },
     "execution_count": 15,
     "metadata": {},
     "output_type": "execute_result"
    }
   ],
   "source": [
    "%%time\n",
    "user_input = \"1+1 is equal to?\"\n",
    "router_llm.invoke({\"user_input\": user_input})"
   ]
  },
  {
   "cell_type": "code",
   "execution_count": 16,
   "id": "2e5aaebb-295d-4685-8be8-4ed342b54531",
   "metadata": {},
   "outputs": [
    {
     "name": "stdout",
     "output_type": "stream",
     "text": [
      "CPU times: total: 0 ns\n",
      "Wall time: 2.83 s\n"
     ]
    },
    {
     "data": {
      "text/plain": [
       "{'function_name': 'minus'}"
      ]
     },
     "execution_count": 16,
     "metadata": {},
     "output_type": "execute_result"
    }
   ],
   "source": [
    "%%time\n",
    "user_input = \"1-1 is equal to?\"\n",
    "router_llm.invoke({\"user_input\": user_input})"
   ]
  },
  {
   "cell_type": "code",
   "execution_count": 17,
   "id": "b3e3fcda-1fc7-4ce7-bd62-a1893fbdf3d7",
   "metadata": {},
   "outputs": [
    {
     "name": "stdout",
     "output_type": "stream",
     "text": [
      "CPU times: total: 0 ns\n",
      "Wall time: 2.89 s\n"
     ]
    },
    {
     "data": {
      "text/plain": [
       "{'function_name': 'stock_query'}"
      ]
     },
     "execution_count": 17,
     "metadata": {},
     "output_type": "execute_result"
    }
   ],
   "source": [
    "%%time\n",
    "user_input = \"What is apple stock's price now?\"\n",
    "router_llm.invoke({\"user_input\": user_input})"
   ]
  },
  {
   "cell_type": "code",
   "execution_count": 18,
   "id": "49a38f2c-5ef8-40ab-944d-1724ba502a8a",
   "metadata": {},
   "outputs": [
    {
     "name": "stdout",
     "output_type": "stream",
     "text": [
      "CPU times: total: 15.6 ms\n",
      "Wall time: 2.91 s\n"
     ]
    },
    {
     "data": {
      "text/plain": [
       "{'function_name': 'stock_query'}"
      ]
     },
     "execution_count": 18,
     "metadata": {},
     "output_type": "execute_result"
    }
   ],
   "source": [
    "%%time\n",
    "user_input = \"What is Microsoft stock's price now?\"\n",
    "router_llm.invoke({\"user_input\": user_input})"
   ]
  },
  {
   "cell_type": "code",
   "execution_count": 19,
   "id": "db4ec79e-062d-4f2a-aba1-95b9edc4e67f",
   "metadata": {},
   "outputs": [
    {
     "name": "stdout",
     "output_type": "stream",
     "text": [
      "CPU times: total: 0 ns\n",
      "Wall time: 2.91 s\n"
     ]
    },
    {
     "data": {
      "text/plain": [
       "{'function_name': 'not_found'}"
      ]
     },
     "execution_count": 19,
     "metadata": {},
     "output_type": "execute_result"
    }
   ],
   "source": [
    "%%time\n",
    "user_input = \"Banana is yummy, haha\"\n",
    "router_llm.invoke({\"user_input\": user_input})"
   ]
  },
  {
   "cell_type": "code",
   "execution_count": 20,
   "id": "2c70b2a2-d986-4e79-8338-30fa9cbeb8b1",
   "metadata": {},
   "outputs": [],
   "source": [
    "from typing_extensions import TypedDict\n",
    "from typing import List\n",
    "from langchain_core.documents import Document\n",
    "\n",
    "### State\n",
    "\n",
    "\n",
    "class GraphState(TypedDict):\n",
    "    \"\"\"\n",
    "    Represents the state of our graph.\n",
    "\n",
    "    Attributes:\n",
    "        user_input: the user's input\n",
    "        generation: LLM generation\n",
    "        function_name: the name of functions for the next execution\n",
    "        execution_result: the execution's result\n",
    "    \"\"\"\n",
    "\n",
    "    user_input: str\n",
    "    generation: str\n",
    "    function_name: str\n",
    "    execution_result: str\n",
    "\n",
    "def agent_router(state):\n",
    "    \"\"\"\n",
    "    Route the user to match the right agent.\n",
    "    Args:\n",
    "        state (dict) : The current graph state\n",
    "    Returns:\n",
    "        state (dict) : The user's intent and function_name\n",
    "    \"\"\"\n",
    "    print(\"----ROUTE----\")\n",
    "    user_input = state['user_input']\n",
    "    response = router_llm.invoke({\"user_input\": user_input})\n",
    "    function_name = response[\"function_name\"]\n",
    "    return {\"function_name\": function_name}\n",
    "\n",
    "def execute_tool(state):\n",
    "    \"\"\"\n",
    "    Execute the tool based on function_name\n",
    "    Args:\n",
    "        state (dict) : The current graph state\n",
    "    Returns:\n",
    "        state (dict) : The execution's result\n",
    "    \"\"\"\n",
    "    print(f\"----EXECUTE----\")\n",
    "    function_name = state[\"function_name\"]\n",
    "    print(f\"----START: {function_name}----\")\n",
    "    func = tool_dict[function_name]\n",
    "    user_input = state[\"user_input\"]\n",
    "    response = func.run({\"user_input\":user_input})\n",
    "    print(f\"----END: {function_name}----\")\n",
    "    return {\"execution_result\": str(response)}\n",
    "\n",
    "def return_result(state):\n",
    "    \"\"\"\n",
    "    Return all\n",
    "    Args:\n",
    "        state (dict) : The current graph state\n",
    "    Returns:\n",
    "        state (dict) : The current graph state\n",
    "    \"\"\"\n",
    "    print(f\"----RETURN RESULT----\")\n",
    "    user_input = state[\"user_input\"]\n",
    "    execution_result = state[\"execution_result\"]\n",
    "    query = {\"user_input\": user_input, \"execution_result\": execution_result}\n",
    "    response = generate_chain.invoke(query)\n",
    "    return {\"generation\": response}"
   ]
  },
  {
   "cell_type": "code",
   "execution_count": 21,
   "id": "ed9f4bb2-415b-4ea8-a789-d927eb315a67",
   "metadata": {},
   "outputs": [],
   "source": [
    "from langgraph.graph import END, StateGraph\n",
    "\n",
    "nodes = [agent_router, execute_tool, return_result]\n",
    "\n",
    "workflow = StateGraph(GraphState)\n",
    "for node in nodes:\n",
    "    workflow.add_node(node.__name__, node)"
   ]
  },
  {
   "cell_type": "code",
   "execution_count": 22,
   "id": "499a326f-903b-47ec-b1c6-bf2bbaa48836",
   "metadata": {},
   "outputs": [],
   "source": [
    "workflow.set_entry_point(agent_router.__name__)\n",
    "workflow.add_edge(agent_router.__name__, execute_tool.__name__)\n",
    "workflow.add_edge(execute_tool.__name__, return_result.__name__)\n",
    "workflow.add_edge(return_result.__name__, END)"
   ]
  },
  {
   "cell_type": "code",
   "execution_count": 23,
   "id": "49759ef3-be23-4528-b0d4-c48af66f9231",
   "metadata": {},
   "outputs": [],
   "source": [
    "app = workflow.compile()"
   ]
  },
  {
   "cell_type": "code",
   "execution_count": 24,
   "id": "8c31748b-938b-42c3-b43d-e21ccf3ac57a",
   "metadata": {},
   "outputs": [
    {
     "name": "stdout",
     "output_type": "stream",
     "text": [
      "----ROUTE----\n",
      "----EXECUTE----\n",
      "----START: stock_query----\n",
      "----END: stock_query----\n",
      "----RETURN RESULT----\n",
      "I'd be happy to help!\n",
      "\n",
      "According to my latest information, Apple's current stock price is $192.25. Please note that stock prices can fluctuate rapidly, so this figure may not reflect the current market value. If you're looking for real-time updates or want to make an informed investment decision, I recommend checking a reliable financial source or a stock trading platform for the most up-to-date information.\n",
      "CPU times: total: 0 ns\n",
      "Wall time: 13.1 s\n"
     ]
    }
   ],
   "source": [
    "%%time\n",
    "user_input = \"What is apple stock's price now?\"\n",
    "query = {\"user_input\": user_input}\n",
    "response = app.invoke(query)\n",
    "print(response[\"generation\"])"
   ]
  },
  {
   "cell_type": "code",
   "execution_count": 25,
   "id": "484ee6bd-8f8b-448c-8477-5c8e981cd66a",
   "metadata": {},
   "outputs": [
    {
     "name": "stdout",
     "output_type": "stream",
     "text": [
      "----ROUTE----\n",
      "----EXECUTE----\n",
      "----START: stock_query----\n",
      "----END: stock_query----\n",
      "----RETURN RESULT----\n",
      "I'd be happy to help you with that!\n",
      "\n",
      "According to my latest information, the current price of Microsoft (MSFT) stock is $415.13. Please note that stock prices can fluctuate rapidly and may change by the time you read this. If you're considering making a purchase or sale decision, I recommend checking the most up-to-date pricing information before doing so.\n",
      "CPU times: total: 0 ns\n",
      "Wall time: 12.2 s\n"
     ]
    }
   ],
   "source": [
    "%%time\n",
    "user_input = \"What is Microsoft stock's price now?\"\n",
    "query = {\"user_input\": user_input}\n",
    "response = app.invoke(query)\n",
    "print(response[\"generation\"])"
   ]
  },
  {
   "cell_type": "code",
   "execution_count": 27,
   "id": "95f49e32-b1d2-44d9-80bb-f08d1612ca05",
   "metadata": {},
   "outputs": [
    {
     "name": "stdin",
     "output_type": "stream",
     "text": [
      " exit\n"
     ]
    }
   ],
   "source": [
    "while True:\n",
    "    user_input = input()\n",
    "    if user_input in [\"exit\"]:\n",
    "        break\n",
    "    query = {\"user_input\": user_input}\n",
    "    response = app.invoke(query)\n",
    "    print(response[\"generation\"])"
   ]
  },
  {
   "cell_type": "code",
   "execution_count": null,
   "id": "59c9ede2-f6b7-4174-9bb8-b3f6e7457be3",
   "metadata": {},
   "outputs": [],
   "source": []
  }
 ],
 "metadata": {
  "kernelspec": {
   "display_name": "Python 3 (ipykernel)",
   "language": "python",
   "name": "python3"
  },
  "language_info": {
   "codemirror_mode": {
    "name": "ipython",
    "version": 3
   },
   "file_extension": ".py",
   "mimetype": "text/x-python",
   "name": "python",
   "nbconvert_exporter": "python",
   "pygments_lexer": "ipython3",
   "version": "3.12.3"
  }
 },
 "nbformat": 4,
 "nbformat_minor": 5
}
