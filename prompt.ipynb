{
 "cells": [
  {
   "cell_type": "markdown",
   "id": "122e0f8a-9277-4c46-8c05-cb3d384d2862",
   "metadata": {},
   "source": [
    "[llama3 prompt](https://llama.meta.com/docs/model-cards-and-prompt-formats/meta-llama-3/)"
   ]
  },
  {
   "cell_type": "code",
   "execution_count": null,
   "id": "6c6343ec-4eb3-4c11-8a76-5fe3e69b3cbd",
   "metadata": {},
   "outputs": [],
   "source": []
  }
 ],
 "metadata": {
  "kernelspec": {
   "display_name": "Python 3 (ipykernel)",
   "language": "python",
   "name": "python3"
  },
  "language_info": {
   "codemirror_mode": {
    "name": "ipython",
    "version": 3
   },
   "file_extension": ".py",
   "mimetype": "text/x-python",
   "name": "python",
   "nbconvert_exporter": "python",
   "pygments_lexer": "ipython3",
   "version": "3.12.3"
  }
 },
 "nbformat": 4,
 "nbformat_minor": 5
}
