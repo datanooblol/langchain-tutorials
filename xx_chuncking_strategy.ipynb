{
 "cells": [
  {
   "cell_type": "code",
   "execution_count": 1,
   "id": "198188fc-233d-409c-aa1d-118b8087b26e",
   "metadata": {},
   "outputs": [],
   "source": [
    "from package import embedding"
   ]
  },
  {
   "cell_type": "markdown",
   "id": "4c43379a-bf62-47e2-a45b-bdaf32a2ba5b",
   "metadata": {},
   "source": [
    "# Character split"
   ]
  },
  {
   "cell_type": "code",
   "execution_count": null,
   "id": "513fbe08-0bef-4385-8137-138ba95dfe28",
   "metadata": {},
   "outputs": [],
   "source": []
  },
  {
   "cell_type": "markdown",
   "id": "67a48a56-222d-4cdc-b6cb-fe9e1f6e0354",
   "metadata": {},
   "source": [
    "# Recursive split"
   ]
  },
  {
   "cell_type": "code",
   "execution_count": null,
   "id": "761fb343-614e-464e-a821-35b15b23e2c3",
   "metadata": {},
   "outputs": [],
   "source": [
    "from langchain.text_splitter import RecursiveCharacterTextSplitter"
   ]
  },
  {
   "cell_type": "markdown",
   "id": "1222097d-ab9c-4e77-8cba-8fadc8571dfc",
   "metadata": {},
   "source": [
    "# Semantic split"
   ]
  },
  {
   "cell_type": "code",
   "execution_count": null,
   "id": "e9e94d15-4eaa-4304-905c-9f0aa861ca6d",
   "metadata": {},
   "outputs": [],
   "source": [
    "from langchain_experimental.text_splitter import SemanticChunker"
   ]
  }
 ],
 "metadata": {
  "kernelspec": {
   "display_name": "Python 3 (ipykernel)",
   "language": "python",
   "name": "python3"
  },
  "language_info": {
   "codemirror_mode": {
    "name": "ipython",
    "version": 3
   },
   "file_extension": ".py",
   "mimetype": "text/x-python",
   "name": "python",
   "nbconvert_exporter": "python",
   "pygments_lexer": "ipython3",
   "version": "3.12.3"
  }
 },
 "nbformat": 4,
 "nbformat_minor": 5
}
