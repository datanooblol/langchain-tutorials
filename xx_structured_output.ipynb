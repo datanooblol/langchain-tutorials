{
 "cells": [
  {
   "cell_type": "markdown",
   "id": "d5970532-ddf3-463d-9e5a-601d526c71fb",
   "metadata": {},
   "source": [
    "[structured_output](https://python.langchain.com/v0.1/docs/integrations/chat/ollama_functions/)"
   ]
  },
  {
   "cell_type": "code",
   "execution_count": null,
   "id": "9bca96e3-3727-4986-935d-9490480d582e",
   "metadata": {},
   "outputs": [],
   "source": []
  }
 ],
 "metadata": {
  "kernelspec": {
   "display_name": "Python 3 (ipykernel)",
   "language": "python",
   "name": "python3"
  },
  "language_info": {
   "codemirror_mode": {
    "name": "ipython",
    "version": 3
   },
   "file_extension": ".py",
   "mimetype": "text/x-python",
   "name": "python",
   "nbconvert_exporter": "python",
   "pygments_lexer": "ipython3",
   "version": "3.12.3"
  }
 },
 "nbformat": 4,
 "nbformat_minor": 5
}
